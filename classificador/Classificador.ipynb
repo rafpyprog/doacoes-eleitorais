{
 "cells": [
  {
   "cell_type": "code",
   "execution_count": 1,
   "metadata": {},
   "outputs": [],
   "source": [
    "import os\n",
    "import json\n",
    "import datetime\n",
    "\n",
    "from __future__ import print_function\n",
    "from ipywidgets import interact, interactive, fixed, interact_manual\n",
    "import ipywidgets as widgets\n",
    "import pandas as pd\n",
    "\n",
    "import pyperclip\n",
    "from IPython.display import clear_output, display\n",
    "import nltk\n",
    "from nltk.stem.lancaster import LancasterStemmer\n",
    "stemmer = LancasterStemmer()"
   ]
  },
  {
   "cell_type": "markdown",
   "metadata": {},
   "source": [
    "# Importação do banco de dados de Prestação de Contas"
   ]
  },
  {
   "cell_type": "code",
   "execution_count": 2,
   "metadata": {},
   "outputs": [],
   "source": [
    "data_file = \"receitas_candidatos_prestacao_contas_final_2016_brasil.txt\"\n",
    "if os.name != 'posix':    \n",
    "    dataset = data_file\n",
    "else:        \n",
    "    dataset = f\"Dados/Pretação de Contas/prestacao_contas_final_2016/{data_file}\""
   ]
  },
  {
   "cell_type": "markdown",
   "metadata": {},
   "source": [
    "* Importa ignorando os valores nulos"
   ]
  },
  {
   "cell_type": "code",
   "execution_count": 3,
   "metadata": {},
   "outputs": [
    {
     "name": "stdout",
     "output_type": "stream",
     "text": [
      "Importado o arquivo 'Dados/Pretação de Contas/prestacao_contas_final_2016/receitas_candidatos_prestacao_contas_final_2016_brasil.txt' contendo 1944398 linhas.\n"
     ]
    }
   ],
   "source": [
    "dados_BR = pd.read_csv(dataset, encoding=\"ISO-8859-1\", delimiter=\";\", na_values=\"#NULO\",\n",
    "                       usecols=[\"Descricao da receita\"]).dropna()\n",
    "dados_BR.head()\n",
    "num_linhas = dados_BR.shape[0]\n",
    "\n",
    "print(f\"Importado o arquivo '{dataset}' contendo {num_linhas} linhas.\")"
   ]
  },
  {
   "cell_type": "markdown",
   "metadata": {},
   "source": [
    "# Tratamento dos Dados"
   ]
  },
  {
   "cell_type": "markdown",
   "metadata": {},
   "source": [
    "* Remove espaços em branco e aspas antes de depois das descrições e converte para letras minúsculas"
   ]
  },
  {
   "cell_type": "code",
   "execution_count": 4,
   "metadata": {
    "collapsed": true
   },
   "outputs": [],
   "source": [
    "def limpa_descricao(descricao):\n",
    "    return descricao.strip().strip(\"'\").lower()    "
   ]
  },
  {
   "cell_type": "code",
   "execution_count": 5,
   "metadata": {},
   "outputs": [
    {
     "data": {
      "text/html": [
       "<div>\n",
       "<table border=\"1\" class=\"dataframe\">\n",
       "  <thead>\n",
       "    <tr style=\"text-align: right;\">\n",
       "      <th></th>\n",
       "      <th>Descricao da receita</th>\n",
       "    </tr>\n",
       "  </thead>\n",
       "  <tbody>\n",
       "    <tr>\n",
       "      <th>0</th>\n",
       "      <td>foto para campanha</td>\n",
       "    </tr>\n",
       "    <tr>\n",
       "      <th>2</th>\n",
       "      <td>doacao de santinhos</td>\n",
       "    </tr>\n",
       "    <tr>\n",
       "      <th>6</th>\n",
       "      <td>serviços de contabilidade</td>\n",
       "    </tr>\n",
       "    <tr>\n",
       "      <th>7</th>\n",
       "      <td>serviços advocatícios</td>\n",
       "    </tr>\n",
       "    <tr>\n",
       "      <th>8</th>\n",
       "      <td>constituição de advogado para prestação de con...</td>\n",
       "    </tr>\n",
       "  </tbody>\n",
       "</table>\n",
       "</div>"
      ],
      "text/plain": [
       "                                Descricao da receita\n",
       "0                                 foto para campanha\n",
       "2                                doacao de santinhos\n",
       "6                          serviços de contabilidade\n",
       "7                              serviços advocatícios\n",
       "8  constituição de advogado para prestação de con..."
      ]
     },
     "execution_count": 5,
     "metadata": {},
     "output_type": "execute_result"
    }
   ],
   "source": [
    "dados_BR['Descricao da receita'] = dados_BR['Descricao da receita'].map(limpa_descricao)\n",
    "dados_BR.head()"
   ]
  },
  {
   "cell_type": "markdown",
   "metadata": {},
   "source": [
    "* Remove as entradas duplicadas"
   ]
  },
  {
   "cell_type": "code",
   "execution_count": 6,
   "metadata": {},
   "outputs": [
    {
     "name": "stdout",
     "output_type": "stream",
     "text": [
      "Gerado dataset com 584428 linhas únicas.\n"
     ]
    }
   ],
   "source": [
    "dados_BR.drop_duplicates(inplace=True)\n",
    "print(f\"Gerado dataset com {dados_BR.shape[0]} linhas únicas.\")"
   ]
  },
  {
   "cell_type": "markdown",
   "metadata": {},
   "source": [
    "# Extrai Amostra Aleatória para Classificação e Treinamento do Modelo"
   ]
  },
  {
   "cell_type": "code",
   "execution_count": 7,
   "metadata": {
    "collapsed": true
   },
   "outputs": [],
   "source": [
    "TAMANHO_DA_AMOSTRA = 999"
   ]
  },
  {
   "cell_type": "code",
   "execution_count": 8,
   "metadata": {
    "collapsed": true
   },
   "outputs": [],
   "source": [
    "model_data = dados_BR.sample(frac=1, random_state=123).reset_index(drop=True).loc[:TAMANHO_DA_AMOSTRA]\n",
    "model_data['Classificacao'] = None"
   ]
  },
  {
   "cell_type": "markdown",
   "metadata": {},
   "source": [
    "* Interface para captura das entradas de classificação"
   ]
  },
  {
   "cell_type": "code",
   "execution_count": 9,
   "metadata": {},
   "outputs": [
    {
     "name": "stdout",
     "output_type": "stream",
     "text": [
      "40 - perfurite adesivo 43x90\n"
     ]
    }
   ],
   "source": [
    "global index_ocorrencia\n",
    "index_ocorrencia = None\n",
    "classificadores_db = \"classificadores.txt\"\n",
    "\n",
    "def exporta_dados_classificados():\n",
    "    # Salva as ocorrências já classificadas em csv para recuperação\n",
    "    model_data.query(\"~Classificacao.isnull()\").to_csv(\"model_data.csv\", index=False, sep=\";\")\n",
    "\n",
    "# busca os classificadores no arquivo\n",
    "try:\n",
    "    with open(classificadores_db, \"r\", encoding=\"utf-8\") as f:\n",
    "        classificadores = sorted(c.strip() for c in f.readlines())\n",
    "        dropdown_options = [\"\"] + classificadores\n",
    "except FileNotFoundError:\n",
    "    dropdown_options = [\"\"]\n",
    "\n",
    "drop_down = widgets.Dropdown(\n",
    "    options=dropdown_options,\n",
    "    value=\"\",\n",
    "    description=\"Classificadores:\",\n",
    ")\n",
    "\n",
    "txt = widgets.Text(description=\"Novo Classificador\")\n",
    "button = widgets.Button(description=\"Classificar\")\n",
    "\n",
    "# Botão adicionar classificador\n",
    "botao_adicionar_classificador = widgets.Button(description=\"Novo Classificador\")\n",
    "def inserir_novo_classificador(b):\n",
    "    TXT_IS_NOT_EMPTY = txt.value != \"\"\n",
    "    if TXT_IS_NOT_EMPTY:\n",
    "        novo_classificador = txt.value.lower().strip()\n",
    "        drop_down.options = sorted(drop_down.options + [novo_classificador])\n",
    "        txt.value = \"\"\n",
    "        save_to_file(novo_classificador)\n",
    "        print('Novo classificador cadastrado.')\n",
    "\n",
    "# Botão carrega a próxima ocorrência\n",
    "botao_proximo = widgets.Button(description=\"Próximo\")\n",
    "def proxima_ocorrencia(b):\n",
    "    clear_output()\n",
    "    global index_ocorrencia\n",
    "    index_ocorrencia = model_data.query(\"Classificacao.isnull()\").head(1).index[0]    \n",
    "    ocorrencia = model_data.loc[index_ocorrencia]['Descricao da receita']\n",
    "    print(f\"{index_ocorrencia} - {ocorrencia}\")\n",
    "\n",
    "\n",
    "def save_to_file(ocorrencia):\n",
    "    with open(classificadores_db, \"a\") as f:\n",
    "        f.write(ocorrencia + \"\\n\")\n",
    "    \n",
    "    \n",
    "def classifica_ocorrencia(b):\n",
    "    global index_ocorrencia\n",
    "    TXT_IS_EMPTY = \"\"\n",
    "    drop_down.value == \"\"\n",
    "    clear_output()\n",
    "    try:\n",
    "        classificador = drop_down.value\n",
    "        if TXT_IS_EMPTY:\n",
    "            print(\"Erro: Classificador não selecionado.\")\n",
    "        else:            \n",
    "            if index_ocorrencia is not None:\n",
    "                model_data.loc[index_ocorrencia]['Classificacao'] = classificador\n",
    "                print(f\"Ocorrência classificada com sucesso como {classificador}.\")            \n",
    "                index_ocorrencia = None\n",
    "                drop_down.value = \"\"\n",
    "                drop_down.selected_label = \"\"\n",
    "                exporta_dados_classificados()\n",
    "            else:\n",
    "                print(\"Ocorrência não selecionada.\")\n",
    "    except (UnboundLocalError, NameError):\n",
    "        print(\"Erro. Primeiro selecione a próxima ocorrência.\")\n",
    "    \n",
    "\n",
    "def on_change(change, names=\"value\"):    \n",
    "    pass\n",
    "   \n",
    "drop_down.observe(on_change)\n",
    "button.on_click(classifica_ocorrencia)\n",
    "botao_proximo.on_click(proxima_ocorrencia)\n",
    "botao_adicionar_classificador.on_click(inserir_novo_classificador)\n",
    "display(drop_down, txt, button, botao_proximo, botao_adicionar_classificador)"
   ]
  },
  {
   "cell_type": "code",
   "execution_count": 27,
   "metadata": {
    "collapsed": true
   },
   "outputs": [],
   "source": [
    "dados_classificados = model_data.query(\"~Classificacao.isnull()\")"
   ]
  },
  {
   "cell_type": "markdown",
   "metadata": {},
   "source": [
    "## Cria as classes para treinamento do modelo"
   ]
  },
  {
   "cell_type": "code",
   "execution_count": 28,
   "metadata": {
    "scrolled": true
   },
   "outputs": [
    {
     "name": "stdout",
     "output_type": "stream",
     "text": [
      "40 sentences in training data\n"
     ]
    }
   ],
   "source": [
    "training_data = []\n",
    "for i in range(0, len(dados_classificados)):\n",
    "    sentence, sentence_class = dados_classificados.loc[i]\n",
    "    if sentence_class != \"Não Classificado\":\n",
    "        training_data.append({\"class\": sentence_class.strip(), \"sentence\": sentence})    \n",
    "\n",
    "print (\"%s sentences in training data\" % len(training_data))"
   ]
  },
  {
   "cell_type": "code",
   "execution_count": 29,
   "metadata": {},
   "outputs": [
    {
     "name": "stdout",
     "output_type": "stream",
     "text": [
      "40 documents\n",
      "10 classes ['7319-0/04 - consultoria em publicidade', '6911-7/01 - serviços advocatícios', '1813-0/01 - impressão de material para uso publicitário', '7319-0/03 - marketing direto', '7319-0/02 - promoção de vendas', '7711-0/00 - locação de automóveis sem condutor', '5911-1/02 - produção de filmes para publicidade', '6920-6/01 - atividades de contabilidade', '9700-5/00 - serviços domésticos', '4923-0/02 - serviço de transporte de passageiros - locação de automóveis com motorista']\n",
      "228 unique stemmed words ['campanh', '2013/2013', 'marc', '3930·', 'cento', '2010/11-cor', 'da', 'impresso', 'período', 'à', 'refr', 'cessão', 'serviço', 'medindo', 'cessao', 'ren', 'assessor', '10x7-4x4', 'dobrad', 'gm', 'gol', '75g', 'sua', '18:00h', 'verde-placa', '0.80x0.40', 'gm/s10', '01/10/20166', '09:00', 'az', '1.6', 'ano:2008/2009', 'das', '6957', 'técnicos', 'santinho', 'flex', 'ajb-0582', '2011', 'tutuc', '02/10/2016', 'njo3352', 'dobradinh', 'parachoqu', 'plac', '1994·', 'de', 'perfurado', '25/08/2016', 'c/', 'porcento', 'digit', ':', 'tiragem', 'execut', 'cm', 'ecosport', 'cartaz', 'propriedad', 'com', 'por', 'eleições2016', 'estimado', 'edição', 'todo', 'motorist', 'remunerad', 'divulgação', '22777', 'proprio-', 'salet', 'bandeir', 'mil', 'nf', 'ltda', 'locação', '1.0', 'fir', 'dtt3861', '7x10', 'prat', '2009/2010', 'não', 'filmagem', '30/09/2016', 'adesivo', 'carro', 'off-set', '01/09/2016', 'vermelh', 'rang', 'panfletagem', 'grafic', 'val', 'gm.mod.corsa', 'junta', '1.6l', 'dia', 'alberto', 'vinil', 'vol', 'contáb', 'nkt-8674', '4/4', 'x', 'prestacao', 'candidato', 'gwb', 'veículo', 'best', 'par', 'osw2556', 'nio-8957', 'imv7164', '3995', 'próprios', 'a:1·00', 'igb', 'um', 'ford', 'n', '2016', 'em', '30.000', 'veiculo', 'foc', 'hjz2425', 'ano/modelo', 'gm/vectra', 'imprssão', 'camionete/aberta', 'camionet', 'no', '03', 'o', 'espaço', 'market', 'giv', 'equipamento', 'pret', 'hora', 'automovel', '1·50x1·50', '108', 'ref', 'prestação', 'vsita', 'flexivel', '30x10', 'el', 'fiat', 'militânc', 'nº', 'carlo', 'mag', 'as', '3554', '6x9cm', 'a', 'ventur', 'salles/prof', 'gamb', 'na', 'praguinhas7x7', '20', 'doaçao', 'diaria', '2012', 'propagand', 'uno', 'fin', 'cors', '4', 'alcool/gasolina', 'xlt', 'cartao', '50', 'pinheirinhoxmarco', 'editor', 'tre', 'sadinoel', 'conta', '4x4', 'evh0710', 'cd432', 'sien', 'ano', '.', 'cor', '2007', 'voluntario', 'e', 'und', '-', 'marco', '642', 'noraldino', 'oib', 'l:0·50', 'eleitora', 'ver', 'uso', 'cni0430', 'conf', 'panfletinho', '2.0', 'vw/gol', 'doação', '(', 'do', 'kia', 'doção', 'aquisiçao', 'jurídic', 'automóvel', 'd', '02/09/2016', 'antonio', 'eleit', 'juridic', ')', 'arm-1934', 'vw', 'canid', 'servico', 'fusc', 'lagun', 'cedablio']\n"
     ]
    }
   ],
   "source": [
    "words = []\n",
    "classes = []\n",
    "documents = []\n",
    "ignore_words = ['?']\n",
    "# loop through each sentence in our training data\n",
    "for pattern in training_data:\n",
    "    # tokenize each word in the sentence\n",
    "    w = nltk.word_tokenize(pattern['sentence'])\n",
    "    # add to our words list\n",
    "    words.extend(w)\n",
    "    # add to documents in our corpus\n",
    "    documents.append((w, pattern['class']))\n",
    "    # add to our classes list\n",
    "    if pattern['class'] not in classes:\n",
    "        classes.append(pattern['class'])\n",
    "\n",
    "# stem and lower each word and remove duplicates\n",
    "words = [stemmer.stem(w.lower()) for w in words if w not in ignore_words]\n",
    "words = list(set(words))\n",
    "\n",
    "# remove duplicates\n",
    "classes = list(set(classes))\n",
    "\n",
    "print (len(documents), \"documents\")\n",
    "print (len(classes), \"classes\", classes)\n",
    "print (len(words), \"unique stemmed words\", words)"
   ]
  },
  {
   "cell_type": "code",
   "execution_count": 30,
   "metadata": {},
   "outputs": [
    {
     "name": "stdout",
     "output_type": "stream",
     "text": [
      "# words 228\n",
      "# classes 10\n"
     ]
    }
   ],
   "source": [
    "# create our training data\n",
    "training = []\n",
    "output = []\n",
    "# create an empty array for our output\n",
    "output_empty = [0] * len(classes)\n",
    "\n",
    "# training set, bag of words for each sentence\n",
    "for doc in documents:\n",
    "    # initialize our bag of words\n",
    "    bag = []\n",
    "    # list of tokenized words for the pattern\n",
    "    pattern_words = doc[0]\n",
    "    # stem each word\n",
    "    pattern_words = [stemmer.stem(word.lower()) for word in pattern_words]\n",
    "    # create our bag of words array\n",
    "    for w in words:\n",
    "        bag.append(1) if w in pattern_words else bag.append(0)\n",
    "\n",
    "    training.append(bag)\n",
    "    # output is a '0' for each tag and '1' for current tag\n",
    "    output_row = list(output_empty)\n",
    "    output_row[classes.index(doc[1])] = 1\n",
    "    output.append(output_row)\n",
    "\n",
    "print (\"# words\", len(words))\n",
    "print (\"# classes\", len(classes))"
   ]
  },
  {
   "cell_type": "code",
   "execution_count": 31,
   "metadata": {},
   "outputs": [
    {
     "name": "stdout",
     "output_type": "stream",
     "text": [
      "['aquisiçao', 'de', 'adesivo', 'flexivel', '(', 'l:0·50', 'x', 'a:1·00', ')', 'propagand', 'eleit']\n",
      "[0, 0, 0, 0, 0, 0, 0, 0, 0, 0, 0, 0, 0, 0, 0, 0, 0, 0, 0, 0, 0, 0, 0, 0, 0, 0, 0, 0, 0, 0, 0, 0, 0, 0, 0, 0, 0, 0, 0, 0, 0, 0, 0, 0, 0, 0, 1, 0, 0, 0, 0, 0, 0, 0, 0, 0, 0, 0, 0, 0, 0, 0, 0, 0, 0, 0, 0, 0, 0, 0, 0, 0, 0, 0, 0, 0, 0, 0, 0, 0, 0, 0, 0, 0, 0, 1, 0, 0, 0, 0, 0, 0, 0, 0, 0, 0, 0, 0, 0, 0, 0, 0, 0, 0, 1, 0, 0, 0, 0, 0, 0, 0, 0, 0, 0, 0, 1, 0, 0, 0, 0, 0, 0, 0, 0, 0, 0, 0, 0, 0, 0, 0, 0, 0, 0, 0, 0, 0, 0, 0, 0, 0, 0, 0, 0, 0, 0, 1, 0, 0, 0, 0, 0, 0, 0, 0, 0, 0, 0, 0, 0, 0, 0, 0, 0, 0, 0, 0, 1, 0, 0, 0, 0, 0, 0, 0, 0, 0, 0, 0, 0, 0, 0, 0, 0, 0, 0, 0, 0, 0, 0, 0, 0, 0, 0, 0, 0, 0, 1, 0, 0, 0, 0, 0, 0, 0, 0, 0, 1, 0, 0, 0, 1, 0, 0, 0, 0, 0, 1, 0, 1, 0, 0, 0, 0, 0, 0, 0]\n",
      "[0, 0, 1, 0, 0, 0, 0, 0, 0, 0]\n"
     ]
    }
   ],
   "source": [
    "# sample training/output\n",
    "i = 0\n",
    "w = documents[i][0]\n",
    "print ([stemmer.stem(word.lower()) for word in w])\n",
    "print (training[i])\n",
    "print (output[i])"
   ]
  },
  {
   "cell_type": "code",
   "execution_count": 32,
   "metadata": {
    "collapsed": true
   },
   "outputs": [],
   "source": [
    "import numpy as np\n",
    "import time\n",
    "\n",
    "# compute sigmoid nonlinearity\n",
    "def sigmoid(x):\n",
    "    output = 1/(1+np.exp(-x))\n",
    "    return output\n",
    "\n",
    "# convert output of sigmoid function to its derivative\n",
    "def sigmoid_output_to_derivative(output):\n",
    "    return output*(1-output)\n",
    " \n",
    "def clean_up_sentence(sentence):\n",
    "    # tokenize the pattern\n",
    "    sentence_words = nltk.word_tokenize(sentence)\n",
    "    # stem each word\n",
    "    sentence_words = [stemmer.stem(word.lower()) for word in sentence_words]\n",
    "    return sentence_words\n",
    "\n",
    "# return bag of words array: 0 or 1 for each word in the bag that exists in the sentence\n",
    "def bow(sentence, words, show_details=False):\n",
    "    # tokenize the pattern\n",
    "    sentence_words = clean_up_sentence(sentence)\n",
    "    # bag of words\n",
    "    bag = [0]*len(words)  \n",
    "    for s in sentence_words:\n",
    "        for i,w in enumerate(words):\n",
    "            if w == s: \n",
    "                bag[i] = 1\n",
    "                if show_details:\n",
    "                    print (\"found in bag: %s\" % w)\n",
    "\n",
    "    return(np.array(bag))\n",
    "\n",
    "def think(sentence, show_details=False):\n",
    "    x = bow(sentence.lower(), words, show_details)\n",
    "    if show_details:\n",
    "        print (\"sentence:\", sentence, \"\\n bow:\", x)\n",
    "    # input layer is our bag of words\n",
    "    l0 = x\n",
    "    # matrix multiplication of input and hidden layer\n",
    "    l1 = sigmoid(np.dot(l0, synapse_0))\n",
    "    # output layer\n",
    "    l2 = sigmoid(np.dot(l1, synapse_1))\n",
    "    return l2"
   ]
  },
  {
   "cell_type": "code",
   "execution_count": 33,
   "metadata": {
    "collapsed": true
   },
   "outputs": [],
   "source": [
    "# ANN and Gradient Descent code from https://iamtrask.github.io//2015/07/27/python-network-part2/\n",
    "def train(X, y, hidden_neurons=10, alpha=1, epochs=50000, dropout=False, dropout_percent=0.5):\n",
    "\n",
    "    print (\"Training with %s neurons, alpha:%s, dropout:%s %s\" % (hidden_neurons, str(alpha), dropout, dropout_percent if dropout else '') )\n",
    "    print (\"Input matrix: %sx%s    Output matrix: %sx%s\" % (len(X),len(X[0]),1, len(classes)) )\n",
    "    np.random.seed(1)\n",
    "\n",
    "    last_mean_error = 1\n",
    "    # randomly initialize our weights with mean 0\n",
    "    synapse_0 = 2*np.random.random((len(X[0]), hidden_neurons)) - 1\n",
    "    synapse_1 = 2*np.random.random((hidden_neurons, len(classes))) - 1\n",
    "\n",
    "    prev_synapse_0_weight_update = np.zeros_like(synapse_0)\n",
    "    prev_synapse_1_weight_update = np.zeros_like(synapse_1)\n",
    "\n",
    "    synapse_0_direction_count = np.zeros_like(synapse_0)\n",
    "    synapse_1_direction_count = np.zeros_like(synapse_1)\n",
    "        \n",
    "    for j in iter(range(epochs+1)):\n",
    "\n",
    "        # Feed forward through layers 0, 1, and 2\n",
    "        layer_0 = X\n",
    "        layer_1 = sigmoid(np.dot(layer_0, synapse_0))\n",
    "                \n",
    "        if(dropout):\n",
    "            layer_1 *= np.random.binomial([np.ones((len(X),hidden_neurons))],1-dropout_percent)[0] * (1.0/(1-dropout_percent))\n",
    "\n",
    "        layer_2 = sigmoid(np.dot(layer_1, synapse_1))\n",
    "\n",
    "        # how much did we miss the target value?\n",
    "        layer_2_error = y - layer_2\n",
    "\n",
    "        if (j% 10000) == 0 and j > 5000:\n",
    "            # if this 10k iteration's error is greater than the last iteration, break out\n",
    "            if np.mean(np.abs(layer_2_error)) < last_mean_error:\n",
    "                print (\"delta after \"+str(j)+\" iterations:\" + str(np.mean(np.abs(layer_2_error))) )\n",
    "                last_mean_error = np.mean(np.abs(layer_2_error))\n",
    "            else:\n",
    "                print (\"break:\", np.mean(np.abs(layer_2_error)), \">\", last_mean_error )\n",
    "                break\n",
    "                \n",
    "        # in what direction is the target value?\n",
    "        # were we really sure? if so, don't change too much.\n",
    "        layer_2_delta = layer_2_error * sigmoid_output_to_derivative(layer_2)\n",
    "\n",
    "        # how much did each l1 value contribute to the l2 error (according to the weights)?\n",
    "        layer_1_error = layer_2_delta.dot(synapse_1.T)\n",
    "\n",
    "        # in what direction is the target l1?\n",
    "        # were we really sure? if so, don't change too much.\n",
    "        layer_1_delta = layer_1_error * sigmoid_output_to_derivative(layer_1)\n",
    "        \n",
    "        synapse_1_weight_update = (layer_1.T.dot(layer_2_delta))\n",
    "        synapse_0_weight_update = (layer_0.T.dot(layer_1_delta))\n",
    "        \n",
    "        if(j > 0):\n",
    "            synapse_0_direction_count += np.abs(((synapse_0_weight_update > 0)+0) - ((prev_synapse_0_weight_update > 0) + 0))\n",
    "            synapse_1_direction_count += np.abs(((synapse_1_weight_update > 0)+0) - ((prev_synapse_1_weight_update > 0) + 0))        \n",
    "        \n",
    "        synapse_1 += alpha * synapse_1_weight_update\n",
    "        synapse_0 += alpha * synapse_0_weight_update\n",
    "        \n",
    "        prev_synapse_0_weight_update = synapse_0_weight_update\n",
    "        prev_synapse_1_weight_update = synapse_1_weight_update\n",
    "\n",
    "    now = datetime.datetime.now()\n",
    "\n",
    "    # persist synapses\n",
    "    synapse = {'synapse0': synapse_0.tolist(), 'synapse1': synapse_1.tolist(),\n",
    "               'datetime': now.strftime(\"%Y-%m-%d %H:%M\"),\n",
    "               'words': words,\n",
    "               'classes': classes\n",
    "              }\n",
    "    synapse_file = \"synapses.json\"\n",
    "\n",
    "    with open(synapse_file, 'w') as outfile:\n",
    "        json.dump(synapse, outfile, indent=4, sort_keys=True)\n",
    "    print (\"saved synapses to:\", synapse_file)"
   ]
  },
  {
   "cell_type": "markdown",
   "metadata": {},
   "source": [
    "Melhor delta:\n",
    "* 10 - 0.00180662153035\n",
    "* 40 - 0.00086592825509"
   ]
  },
  {
   "cell_type": "code",
   "execution_count": 34,
   "metadata": {},
   "outputs": [
    {
     "name": "stdout",
     "output_type": "stream",
     "text": [
      "Training with 20 neurons, alpha:0.1, dropout:False \n",
      "Input matrix: 40x228    Output matrix: 1x10\n",
      "delta after 10000 iterations:0.0029671128153\n",
      "delta after 20000 iterations:0.00203083238842\n",
      "delta after 30000 iterations:0.00163396223691\n",
      "delta after 40000 iterations:0.0014022304734\n",
      "delta after 50000 iterations:0.00124612830023\n",
      "delta after 60000 iterations:0.00113195644206\n",
      "delta after 70000 iterations:0.00104384503753\n",
      "delta after 80000 iterations:0.000973219884434\n",
      "delta after 90000 iterations:0.000914992394237\n",
      "delta after 100000 iterations:0.000865928255099\n",
      "saved synapses to: synapses.json\n",
      "processing time: 31.412716150283813 seconds\n"
     ]
    }
   ],
   "source": [
    "X = np.array(training)\n",
    "y = np.array(output)\n",
    "\n",
    "start_time = time.time()\n",
    "\n",
    "train(X, y, hidden_neurons=20, alpha=0.1, epochs=100000, dropout=False, dropout_percent=0.2)\n",
    "\n",
    "elapsed_time = time.time() - start_time\n",
    "print (\"processing time:\", elapsed_time, \"seconds\")"
   ]
  },
  {
   "cell_type": "code",
   "execution_count": 35,
   "metadata": {},
   "outputs": [
    {
     "name": "stdout",
     "output_type": "stream",
     "text": [
      "doação de 01 (uma) paródia \n",
      " classification: [['1813-0/01 - impressão de material para uso publicitário', 0.56227048734157359], ['7711-0/00 - locação de automóveis sem condutor', 0.29628238762585718]]\n",
      "serviço de motorista no veiculo vw saveiro 1.6 ce cross· 2011/2012· cor branca \n",
      " classification: [['9700-5/00 - serviços domésticos', 0.24892744791932553]]\n",
      "impresso adesivo vinil 10x30 para choque \n",
      " classification: [['1813-0/01 - impressão de material para uso publicitário', 0.89342855533661281]]\n",
      "honda/nxr125 bros es· placa ily5698· renavam 00833521179· chassi 9c2jd20245020829· ano/modelo 2004 \n",
      " classification: [['7711-0/00 - locação de automóveis sem condutor', 0.96165490766400152]]\n",
      "50 por cento da arte de santinhos 10x7 - 4/4 cores c/ neilton c/ jair suspensao \n",
      " classification: [['1813-0/01 - impressão de material para uso publicitário', 0.43269343817793199]]\n",
      "adesivo 30x9cm rose modesto e niele barbieri \n",
      " classification: [['1813-0/01 - impressão de material para uso publicitário', 0.92817914441074145]]\n",
      "197.577.848-00 - evandro jose dos santos - servico de rua \n",
      " classification: []\n",
      "gm/astra sedan advantage· 2009· branco· placas ary-1039 \n",
      " classification: []\n",
      "cessão de veículo para uso do candidato e sua equipe de campanha· durante 42 dias \n",
      " classification: [['7711-0/00 - locação de automóveis sem condutor', 0.98838452804187094]]\n",
      "fixação de material de campanha em veiculo ble 9167 \n",
      " classification: [['7711-0/00 - locação de automóveis sem condutor', 0.68860350037590923]]\n"
     ]
    }
   ],
   "source": [
    "# probability threshold\n",
    "ERROR_THRESHOLD = 0.2\n",
    "# load our calculated synapse values\n",
    "synapse_file = 'synapses.json' \n",
    "with open(synapse_file) as data_file: \n",
    "    synapse = json.load(data_file) \n",
    "    synapse_0 = np.asarray(synapse['synapse0']) \n",
    "    synapse_1 = np.asarray(synapse['synapse1'])\n",
    "\n",
    "def classify(sentence, show_details=False):\n",
    "    results = think(sentence, show_details)\n",
    "\n",
    "    results = [[i,r] for i,r in enumerate(results) if r>ERROR_THRESHOLD ] \n",
    "    results.sort(key=lambda x: x[1], reverse=True) \n",
    "    return_results =[[classes[r[0]],r[1]] for r in results]\n",
    "    print (\"%s \\n classification: %s\" % (sentence, return_results))\n",
    "    return return_results\n",
    "\n",
    "\n",
    "test_data = dados_BR.sample(frac=1).reset_index(drop=True).loc[:10]\n",
    "for i in range(0, 10):\n",
    "    classify(test_data.reset_index().ix[i, \"Descricao da receita\"])"
   ]
  },
  {
   "cell_type": "code",
   "execution_count": null,
   "metadata": {},
   "outputs": [],
   "source": []
  },
  {
   "cell_type": "code",
   "execution_count": null,
   "metadata": {
    "collapsed": true
   },
   "outputs": [],
   "source": []
  }
 ],
 "metadata": {
  "kernelspec": {
   "display_name": "Python 3",
   "language": "python",
   "name": "python3"
  },
  "language_info": {
   "codemirror_mode": {
    "name": "ipython",
    "version": 3
   },
   "file_extension": ".py",
   "mimetype": "text/x-python",
   "name": "python",
   "nbconvert_exporter": "python",
   "pygments_lexer": "ipython3",
   "version": "3.6.1"
  },
  "widgets": {
   "application/vnd.jupyter.widget-state+json": {
    "state": {
     "020167ea62f74f10a8226137ca5644aa": {
      "model_module": "jupyter-js-widgets",
      "model_module_version": "~2.1.4",
      "model_name": "TextModel",
      "state": {
       "_model_module_version": "~2.1.4",
       "_view_module_version": "~2.1.4",
       "description": "Novo Classificador",
       "layout": "IPY_MODEL_e4a617792d4d4fc4ab483026d4c38065"
      }
     },
     "0473357736174814a1c5ddad5c39b75d": {
      "model_module": "jupyter-js-widgets",
      "model_module_version": "~2.1.4",
      "model_name": "ButtonStyleModel",
      "state": {
       "_model_module_version": "~2.1.4",
       "_view_module_version": "~2.1.4"
      }
     },
     "05a509c622d749b7a6364b9c26519bf2": {
      "model_module": "jupyter-js-widgets",
      "model_module_version": "~2.1.4",
      "model_name": "LayoutModel",
      "state": {
       "_model_module_version": "~2.1.4",
       "_view_module_version": "~2.1.4"
      }
     },
     "05e881b2f6284158b657651214ad4d89": {
      "model_module": "jupyter-js-widgets",
      "model_module_version": "~2.1.4",
      "model_name": "LayoutModel",
      "state": {
       "_model_module_version": "~2.1.4",
       "_view_module_version": "~2.1.4"
      }
     },
     "08fdffefc798471cb1d2fa6e2bafc363": {
      "model_module": "jupyter-js-widgets",
      "model_module_version": "~2.1.4",
      "model_name": "LayoutModel",
      "state": {
       "_model_module_version": "~2.1.4",
       "_view_module_version": "~2.1.4"
      }
     },
     "0994d47006b949e9848b355ae914e632": {
      "model_module": "jupyter-js-widgets",
      "model_module_version": "~2.1.4",
      "model_name": "LayoutModel",
      "state": {
       "_model_module_version": "~2.1.4",
       "_view_module_version": "~2.1.4"
      }
     },
     "09dd60f1976f431da0584ae26fca97e3": {
      "model_module": "jupyter-js-widgets",
      "model_module_version": "~2.1.4",
      "model_name": "ButtonStyleModel",
      "state": {
       "_model_module_version": "~2.1.4",
       "_view_module_version": "~2.1.4"
      }
     },
     "0bdd619aca8b4606b9992db84188d0e0": {
      "model_module": "jupyter-js-widgets",
      "model_module_version": "~2.1.4",
      "model_name": "ButtonModel",
      "state": {
       "_model_module_version": "~2.1.4",
       "_view_module_version": "~2.1.4",
       "description": "Próximo",
       "layout": "IPY_MODEL_10427eec0f16404cbd67a7f5f6a6753a",
       "style": "IPY_MODEL_1b36762a19d74f0bbd5849c37ae0a8e8"
      }
     },
     "0db1b632f341468d9375ac6e94b77e86": {
      "model_module": "jupyter-js-widgets",
      "model_module_version": "~2.1.4",
      "model_name": "LayoutModel",
      "state": {
       "_model_module_version": "~2.1.4",
       "_view_module_version": "~2.1.4"
      }
     },
     "10427eec0f16404cbd67a7f5f6a6753a": {
      "model_module": "jupyter-js-widgets",
      "model_module_version": "~2.1.4",
      "model_name": "LayoutModel",
      "state": {
       "_model_module_version": "~2.1.4",
       "_view_module_version": "~2.1.4"
      }
     },
     "1618c60f5b1b4ea3848cdaa77a213551": {
      "model_module": "jupyter-js-widgets",
      "model_module_version": "~2.1.4",
      "model_name": "ButtonModel",
      "state": {
       "_model_module_version": "~2.1.4",
       "_view_module_version": "~2.1.4",
       "description": "Classificar",
       "layout": "IPY_MODEL_75b7c8449c864203ad278d8a55dd9b16",
       "style": "IPY_MODEL_49c14b7ad08342ae8f6893268c23be66"
      }
     },
     "1a080e38da1b4a3c84eb9dbddd48cc80": {
      "model_module": "jupyter-js-widgets",
      "model_module_version": "~2.1.4",
      "model_name": "ButtonStyleModel",
      "state": {
       "_model_module_version": "~2.1.4",
       "_view_module_version": "~2.1.4"
      }
     },
     "1b180da470284b968f8aecebb1dff0c1": {
      "model_module": "jupyter-js-widgets",
      "model_module_version": "~2.1.4",
      "model_name": "ButtonModel",
      "state": {
       "_model_module_version": "~2.1.4",
       "_view_module_version": "~2.1.4",
       "description": "Classificar",
       "layout": "IPY_MODEL_4a65660ff3a542d99d3c83b44afd9b0c",
       "style": "IPY_MODEL_dabf9f60905841e0b327dfdd3c152571"
      }
     },
     "1b36762a19d74f0bbd5849c37ae0a8e8": {
      "model_module": "jupyter-js-widgets",
      "model_module_version": "~2.1.4",
      "model_name": "ButtonStyleModel",
      "state": {
       "_model_module_version": "~2.1.4",
       "_view_module_version": "~2.1.4"
      }
     },
     "220530378a0145799007bffed37aec32": {
      "model_module": "jupyter-js-widgets",
      "model_module_version": "~2.1.4",
      "model_name": "ButtonModel",
      "state": {
       "_model_module_version": "~2.1.4",
       "_view_module_version": "~2.1.4",
       "description": "Novo Classificador",
       "layout": "IPY_MODEL_c2e7b41c880f4bfdb87a15f178d912b8",
       "style": "IPY_MODEL_f21e9724f40844aeb7cdfcc2018501f6"
      }
     },
     "221c47745ac645338251898d096b085a": {
      "model_module": "jupyter-js-widgets",
      "model_module_version": "~2.1.4",
      "model_name": "LayoutModel",
      "state": {
       "_model_module_version": "~2.1.4",
       "_view_module_version": "~2.1.4"
      }
     },
     "25086823b5de4c199a11923005b7678a": {
      "model_module": "jupyter-js-widgets",
      "model_module_version": "~2.1.4",
      "model_name": "ButtonStyleModel",
      "state": {
       "_model_module_version": "~2.1.4",
       "_view_module_version": "~2.1.4"
      }
     },
     "29c1346e78d84883846681a9a3623fd1": {
      "model_module": "jupyter-js-widgets",
      "model_module_version": "~2.1.4",
      "model_name": "ButtonModel",
      "state": {
       "_model_module_version": "~2.1.4",
       "_view_module_version": "~2.1.4",
       "description": "Próximo",
       "layout": "IPY_MODEL_6f8406146bc346f3bb3827a1017fffb3",
       "style": "IPY_MODEL_39cdfc455b2e4399842e45bf9d00d735"
      }
     },
     "2a6cbbd5ddf74caeac1d4f84fc27afc5": {
      "model_module": "jupyter-js-widgets",
      "model_module_version": "~2.1.4",
      "model_name": "ButtonModel",
      "state": {
       "_model_module_version": "~2.1.4",
       "_view_module_version": "~2.1.4",
       "description": "Novo Classificador",
       "layout": "IPY_MODEL_f8d05d253c434d719b9771c413bc3689",
       "style": "IPY_MODEL_421dcc4985af416ba48d2cfa15003811"
      }
     },
     "2c0ca5aada4c422dbd99e1b84149cd33": {
      "model_module": "jupyter-js-widgets",
      "model_module_version": "~2.1.4",
      "model_name": "LayoutModel",
      "state": {
       "_model_module_version": "~2.1.4",
       "_view_module_version": "~2.1.4"
      }
     },
     "2e8524cd0ac3456c8c404485623dffc8": {
      "model_module": "jupyter-js-widgets",
      "model_module_version": "~2.1.4",
      "model_name": "ButtonStyleModel",
      "state": {
       "_model_module_version": "~2.1.4",
       "_view_module_version": "~2.1.4"
      }
     },
     "3000186632c94a24ba714e025ad9039c": {
      "model_module": "jupyter-js-widgets",
      "model_module_version": "~2.1.4",
      "model_name": "LayoutModel",
      "state": {
       "_model_module_version": "~2.1.4",
       "_view_module_version": "~2.1.4"
      }
     },
     "30aa25bf2723475fb846ad4d10b253a4": {
      "model_module": "jupyter-js-widgets",
      "model_module_version": "~2.1.4",
      "model_name": "ButtonModel",
      "state": {
       "_model_module_version": "~2.1.4",
       "_view_module_version": "~2.1.4",
       "description": "Próximo",
       "layout": "IPY_MODEL_6d1340cdb90b44e991a5b8aa59645f15",
       "style": "IPY_MODEL_f673690616d046eaa9ce2c1bfb49a947"
      }
     },
     "32a71a13f8b340db8de0b8af08a5b971": {
      "model_module": "jupyter-js-widgets",
      "model_module_version": "~2.1.4",
      "model_name": "DropdownModel",
      "state": {
       "_model_module_version": "~2.1.4",
       "_options_labels": [
        ""
       ],
       "_view_module_version": "~2.1.4",
       "description": "Classificadores:",
       "layout": "IPY_MODEL_c0f048bbaf9f47a99ca4137b1b755167"
      }
     },
     "33d180e66d374b43af95d9302dc10d5e": {
      "model_module": "jupyter-js-widgets",
      "model_module_version": "~2.1.4",
      "model_name": "ButtonStyleModel",
      "state": {
       "_model_module_version": "~2.1.4",
       "_view_module_version": "~2.1.4"
      }
     },
     "34707bb467b2406db8713f232a7d9686": {
      "model_module": "jupyter-js-widgets",
      "model_module_version": "~2.1.4",
      "model_name": "ButtonModel",
      "state": {
       "_model_module_version": "~2.1.4",
       "_view_module_version": "~2.1.4",
       "description": "Próximo",
       "layout": "IPY_MODEL_bd6c6c7e0954447b97b4c2e6ec8a4b2d",
       "style": "IPY_MODEL_d5895b7865324e1f82c1d8ab9575d2f9"
      }
     },
     "35c80938466a48a59096643dcd2a3bda": {
      "model_module": "jupyter-js-widgets",
      "model_module_version": "~2.1.4",
      "model_name": "LayoutModel",
      "state": {
       "_model_module_version": "~2.1.4",
       "_view_module_version": "~2.1.4"
      }
     },
     "35e87cfb1d844064b3a4990f059d9707": {
      "model_module": "jupyter-js-widgets",
      "model_module_version": "~2.1.4",
      "model_name": "ButtonStyleModel",
      "state": {
       "_model_module_version": "~2.1.4",
       "_view_module_version": "~2.1.4"
      }
     },
     "360b09dafcf54f3e990499e28d1cd8ab": {
      "model_module": "jupyter-js-widgets",
      "model_module_version": "~2.1.4",
      "model_name": "ButtonModel",
      "state": {
       "_model_module_version": "~2.1.4",
       "_view_module_version": "~2.1.4",
       "description": "Classificar",
       "layout": "IPY_MODEL_0db1b632f341468d9375ac6e94b77e86",
       "style": "IPY_MODEL_0473357736174814a1c5ddad5c39b75d"
      }
     },
     "373968fef4024085a633c178dc9017ab": {
      "model_module": "jupyter-js-widgets",
      "model_module_version": "~2.1.4",
      "model_name": "LayoutModel",
      "state": {
       "_model_module_version": "~2.1.4",
       "_view_module_version": "~2.1.4"
      }
     },
     "38b2a3948d3a407f95d1ae0043480c48": {
      "model_module": "jupyter-js-widgets",
      "model_module_version": "~2.1.4",
      "model_name": "LayoutModel",
      "state": {
       "_model_module_version": "~2.1.4",
       "_view_module_version": "~2.1.4"
      }
     },
     "390135118a534e58853479374da7739d": {
      "model_module": "jupyter-js-widgets",
      "model_module_version": "~2.1.4",
      "model_name": "ButtonModel",
      "state": {
       "_model_module_version": "~2.1.4",
       "_view_module_version": "~2.1.4",
       "description": "Classificar",
       "layout": "IPY_MODEL_aa290fe560d040ccaa34a51d982f3b85",
       "style": "IPY_MODEL_4dd71b62533440d08190613dac225a10"
      }
     },
     "39cdfc455b2e4399842e45bf9d00d735": {
      "model_module": "jupyter-js-widgets",
      "model_module_version": "~2.1.4",
      "model_name": "ButtonStyleModel",
      "state": {
       "_model_module_version": "~2.1.4",
       "_view_module_version": "~2.1.4"
      }
     },
     "3c261b73d3c7487fa2af6d8fadfcba15": {
      "model_module": "jupyter-js-widgets",
      "model_module_version": "~2.1.4",
      "model_name": "ButtonStyleModel",
      "state": {
       "_model_module_version": "~2.1.4",
       "_view_module_version": "~2.1.4"
      }
     },
     "3ebce6090fe6421299a6e40a67bcff6d": {
      "model_module": "jupyter-js-widgets",
      "model_module_version": "~2.1.4",
      "model_name": "ButtonModel",
      "state": {
       "_model_module_version": "~2.1.4",
       "_view_module_version": "~2.1.4",
       "description": "Próximo",
       "layout": "IPY_MODEL_c5406898d9b241b6b0da5c7b9d6e705a",
       "style": "IPY_MODEL_33d180e66d374b43af95d9302dc10d5e"
      }
     },
     "3f20a035c6474ad9acdadab810bfc2ea": {
      "model_module": "jupyter-js-widgets",
      "model_module_version": "~2.1.4",
      "model_name": "ButtonModel",
      "state": {
       "_model_module_version": "~2.1.4",
       "_view_module_version": "~2.1.4",
       "description": "Novo Classificador",
       "layout": "IPY_MODEL_d1eb1cb297164f49b2432ea30c792048",
       "style": "IPY_MODEL_e00a0d5eb68b4a2b92c6f3c540682406"
      }
     },
     "40c9c76b013a401f9bcef68998687284": {
      "model_module": "jupyter-js-widgets",
      "model_module_version": "~2.1.4",
      "model_name": "LayoutModel",
      "state": {
       "_model_module_version": "~2.1.4",
       "_view_module_version": "~2.1.4"
      }
     },
     "41a58ea283254abea5ddd22788f9301c": {
      "model_module": "jupyter-js-widgets",
      "model_module_version": "~2.1.4",
      "model_name": "ButtonModel",
      "state": {
       "_model_module_version": "~2.1.4",
       "_view_module_version": "~2.1.4",
       "description": "Classificar",
       "layout": "IPY_MODEL_b60a607d7be247aabce7c26ccfc8713d",
       "style": "IPY_MODEL_9925fb740e1548d7aac8457443bc15e5"
      }
     },
     "421dcc4985af416ba48d2cfa15003811": {
      "model_module": "jupyter-js-widgets",
      "model_module_version": "~2.1.4",
      "model_name": "ButtonStyleModel",
      "state": {
       "_model_module_version": "~2.1.4",
       "_view_module_version": "~2.1.4"
      }
     },
     "429fb59f96cc4b7b801b354cb0edf891": {
      "model_module": "jupyter-js-widgets",
      "model_module_version": "~2.1.4",
      "model_name": "DropdownModel",
      "state": {
       "_model_module_version": "~2.1.4",
       "_options_labels": [
        "",
        "teste",
        "teste1"
       ],
       "_view_module_version": "~2.1.4",
       "description": "Classificadores:",
       "layout": "IPY_MODEL_8b9c584dd07e4f9a90b8e11dc02cf7f9"
      }
     },
     "45d45c2bc8344614bf5e5af7e9eb31f8": {
      "model_module": "jupyter-js-widgets",
      "model_module_version": "~2.1.4",
      "model_name": "ButtonModel",
      "state": {
       "_model_module_version": "~2.1.4",
       "_view_module_version": "~2.1.4",
       "description": "Novo Classificador",
       "layout": "IPY_MODEL_881fe7a06ed4494a80943f81a721fbe2",
       "style": "IPY_MODEL_35e87cfb1d844064b3a4990f059d9707"
      }
     },
     "49c14b7ad08342ae8f6893268c23be66": {
      "model_module": "jupyter-js-widgets",
      "model_module_version": "~2.1.4",
      "model_name": "ButtonStyleModel",
      "state": {
       "_model_module_version": "~2.1.4",
       "_view_module_version": "~2.1.4"
      }
     },
     "4a51bf0a32e1417dbaab0e41cc80136c": {
      "model_module": "jupyter-js-widgets",
      "model_module_version": "~2.1.4",
      "model_name": "LayoutModel",
      "state": {
       "_model_module_version": "~2.1.4",
       "_view_module_version": "~2.1.4"
      }
     },
     "4a65660ff3a542d99d3c83b44afd9b0c": {
      "model_module": "jupyter-js-widgets",
      "model_module_version": "~2.1.4",
      "model_name": "LayoutModel",
      "state": {
       "_model_module_version": "~2.1.4",
       "_view_module_version": "~2.1.4"
      }
     },
     "4cb820e454ca44bcaab4df9ab9777626": {
      "model_module": "jupyter-js-widgets",
      "model_module_version": "~2.1.4",
      "model_name": "LayoutModel",
      "state": {
       "_model_module_version": "~2.1.4",
       "_view_module_version": "~2.1.4"
      }
     },
     "4dcd82e82b9a4171b5cf40e5035adc92": {
      "model_module": "jupyter-js-widgets",
      "model_module_version": "~2.1.4",
      "model_name": "ButtonModel",
      "state": {
       "_model_module_version": "~2.1.4",
       "_view_module_version": "~2.1.4",
       "description": "Próximo",
       "layout": "IPY_MODEL_684795fdaee844a09c778b85306c440c",
       "style": "IPY_MODEL_bd71b4e6ad704c33bc1e5aad3a249a99"
      }
     },
     "4dd71b62533440d08190613dac225a10": {
      "model_module": "jupyter-js-widgets",
      "model_module_version": "~2.1.4",
      "model_name": "ButtonStyleModel",
      "state": {
       "_model_module_version": "~2.1.4",
       "_view_module_version": "~2.1.4"
      }
     },
     "4eafa5c271fe48eb97271643037a6eb1": {
      "model_module": "jupyter-js-widgets",
      "model_module_version": "~2.1.4",
      "model_name": "ButtonStyleModel",
      "state": {
       "_model_module_version": "~2.1.4",
       "_view_module_version": "~2.1.4"
      }
     },
     "564506707d3440a0b7079e6a66f2355e": {
      "model_module": "jupyter-js-widgets",
      "model_module_version": "~2.1.4",
      "model_name": "LayoutModel",
      "state": {
       "_model_module_version": "~2.1.4",
       "_view_module_version": "~2.1.4"
      }
     },
     "584c3559a60b483c93139eb5dfbe8e9a": {
      "model_module": "jupyter-js-widgets",
      "model_module_version": "~2.1.4",
      "model_name": "LayoutModel",
      "state": {
       "_model_module_version": "~2.1.4",
       "_view_module_version": "~2.1.4"
      }
     },
     "5ae4510e08ed4096bb82f37cc618d3db": {
      "model_module": "jupyter-js-widgets",
      "model_module_version": "~2.1.4",
      "model_name": "LayoutModel",
      "state": {
       "_model_module_version": "~2.1.4",
       "_view_module_version": "~2.1.4"
      }
     },
     "5ebbc9695f934ceb9e01f20bb2948b83": {
      "model_module": "jupyter-js-widgets",
      "model_module_version": "~2.1.4",
      "model_name": "LayoutModel",
      "state": {
       "_model_module_version": "~2.1.4",
       "_view_module_version": "~2.1.4"
      }
     },
     "629011d15464402db54667e8b7a1b9e8": {
      "model_module": "jupyter-js-widgets",
      "model_module_version": "~2.1.4",
      "model_name": "DropdownModel",
      "state": {
       "_model_module_version": "~2.1.4",
       "_options_labels": [
        "",
        "a1\n",
        "a2\n",
        "novo 1\n",
        "novo2\n"
       ],
       "_view_module_version": "~2.1.4",
       "description": "Classificadores:",
       "layout": "IPY_MODEL_b65e248211f8455a873f85fdf64f5e67"
      }
     },
     "67cab78fa45d4dbfa1a08eb605291129": {
      "model_module": "jupyter-js-widgets",
      "model_module_version": "~2.1.4",
      "model_name": "ButtonModel",
      "state": {
       "_model_module_version": "~2.1.4",
       "_view_module_version": "~2.1.4",
       "description": "Novo Classificador",
       "layout": "IPY_MODEL_4a51bf0a32e1417dbaab0e41cc80136c",
       "style": "IPY_MODEL_a176e31127f642138c58bbde9cb6699f"
      }
     },
     "684795fdaee844a09c778b85306c440c": {
      "model_module": "jupyter-js-widgets",
      "model_module_version": "~2.1.4",
      "model_name": "LayoutModel",
      "state": {
       "_model_module_version": "~2.1.4",
       "_view_module_version": "~2.1.4"
      }
     },
     "69f02577229c417d86caece1e9505ecd": {
      "model_module": "jupyter-js-widgets",
      "model_module_version": "~2.1.4",
      "model_name": "ButtonStyleModel",
      "state": {
       "_model_module_version": "~2.1.4",
       "_view_module_version": "~2.1.4"
      }
     },
     "6a9c16584b534f5885d242e3a5ee075c": {
      "model_module": "jupyter-js-widgets",
      "model_module_version": "~2.1.4",
      "model_name": "TextModel",
      "state": {
       "_model_module_version": "~2.1.4",
       "_view_module_version": "~2.1.4",
       "description": "Novo Classificador",
       "layout": "IPY_MODEL_f24b33863b854792b7cb9577f6277486"
      }
     },
     "6d1340cdb90b44e991a5b8aa59645f15": {
      "model_module": "jupyter-js-widgets",
      "model_module_version": "~2.1.4",
      "model_name": "LayoutModel",
      "state": {
       "_model_module_version": "~2.1.4",
       "_view_module_version": "~2.1.4"
      }
     },
     "6e934a39863b410c8f409ddcfb3ea50e": {
      "model_module": "jupyter-js-widgets",
      "model_module_version": "~2.1.4",
      "model_name": "LayoutModel",
      "state": {
       "_model_module_version": "~2.1.4",
       "_view_module_version": "~2.1.4"
      }
     },
     "6f8406146bc346f3bb3827a1017fffb3": {
      "model_module": "jupyter-js-widgets",
      "model_module_version": "~2.1.4",
      "model_name": "LayoutModel",
      "state": {
       "_model_module_version": "~2.1.4",
       "_view_module_version": "~2.1.4"
      }
     },
     "7300a1c1ac1747a599fbfc312c06a05a": {
      "model_module": "jupyter-js-widgets",
      "model_module_version": "~2.1.4",
      "model_name": "ButtonModel",
      "state": {
       "_model_module_version": "~2.1.4",
       "_view_module_version": "~2.1.4",
       "description": "Classificar",
       "layout": "IPY_MODEL_4cb820e454ca44bcaab4df9ab9777626",
       "style": "IPY_MODEL_e468d5a4d2724ee5ab386050306fb852"
      }
     },
     "7583e61f5fa540a282bac5b4b7e40997": {
      "model_module": "jupyter-js-widgets",
      "model_module_version": "~2.1.4",
      "model_name": "ButtonStyleModel",
      "state": {
       "_model_module_version": "~2.1.4",
       "_view_module_version": "~2.1.4"
      }
     },
     "75b7c8449c864203ad278d8a55dd9b16": {
      "model_module": "jupyter-js-widgets",
      "model_module_version": "~2.1.4",
      "model_name": "LayoutModel",
      "state": {
       "_model_module_version": "~2.1.4",
       "_view_module_version": "~2.1.4"
      }
     },
     "767a982d5feb48a99ba89608939436c9": {
      "model_module": "jupyter-js-widgets",
      "model_module_version": "~2.1.4",
      "model_name": "LayoutModel",
      "state": {
       "_model_module_version": "~2.1.4",
       "_view_module_version": "~2.1.4"
      }
     },
     "78ee311889684a499b4821c6d5a6a17e": {
      "model_module": "jupyter-js-widgets",
      "model_module_version": "~2.1.4",
      "model_name": "ButtonStyleModel",
      "state": {
       "_model_module_version": "~2.1.4",
       "_view_module_version": "~2.1.4"
      }
     },
     "7a50b1556d8f4d8fac13e29cf84ab825": {
      "model_module": "jupyter-js-widgets",
      "model_module_version": "~2.1.4",
      "model_name": "DropdownModel",
      "state": {
       "_model_module_version": "~2.1.4",
       "_options_labels": [
        "",
        "arrendamento mercantil operacional, propriedade intelectual, franquias empresariais e exploração de outros direitos\n",
        "combustíveis minerais, óleos minerais e produtos da sua destilação; matérias betuminosas; ceras minerais\n",
        "embarcações e estruturas flutuantes\n",
        "outros serviços profissionais\n",
        "pastas de madeira ou de outras matérias fibrosas celulósicas; papel ou cartão para reciclar (desperdícios e aparas)\n",
        "serviços de apoio às atividades empresariais\n",
        "serviços de publicação, impressão e reprodução\n",
        "serviços de transporte de passageiros\n",
        "serviços jurídicos e contábeis\n",
        "serviços recreativos, culturais e desportivos\n",
        "veículos automóveis, tratores, ciclos e outros veículos terrestres, suas partes e acessórios\n"
       ],
       "_view_module_version": "~2.1.4",
       "description": "Classificadores:",
       "layout": "IPY_MODEL_2c0ca5aada4c422dbd99e1b84149cd33"
      }
     },
     "7d6b93abb75b42329c5fa3417ed793c1": {
      "model_module": "jupyter-js-widgets",
      "model_module_version": "~2.1.4",
      "model_name": "LayoutModel",
      "state": {
       "_model_module_version": "~2.1.4",
       "_view_module_version": "~2.1.4"
      }
     },
     "810f54f4e0394bc58a6fcfb3672c952a": {
      "model_module": "jupyter-js-widgets",
      "model_module_version": "~2.1.4",
      "model_name": "ButtonModel",
      "state": {
       "_model_module_version": "~2.1.4",
       "_view_module_version": "~2.1.4",
       "description": "Próximo",
       "layout": "IPY_MODEL_0994d47006b949e9848b355ae914e632",
       "style": "IPY_MODEL_78ee311889684a499b4821c6d5a6a17e"
      }
     },
     "811965a43d60496093ee1957af683938": {
      "model_module": "jupyter-js-widgets",
      "model_module_version": "~2.1.4",
      "model_name": "TextModel",
      "state": {
       "_model_module_version": "~2.1.4",
       "_view_module_version": "~2.1.4",
       "description": "Novo Classificador",
       "layout": "IPY_MODEL_bdfd2c84c4f7414a9eb007b497b2a4c8"
      }
     },
     "837a0d66b58a413e930d52fb2326ff8c": {
      "model_module": "jupyter-js-widgets",
      "model_module_version": "~2.1.4",
      "model_name": "ButtonModel",
      "state": {
       "_model_module_version": "~2.1.4",
       "_view_module_version": "~2.1.4",
       "description": "Novo Classificador",
       "layout": "IPY_MODEL_05a509c622d749b7a6364b9c26519bf2",
       "style": "IPY_MODEL_4eafa5c271fe48eb97271643037a6eb1"
      }
     },
     "84e056eba7cb4bc8801370f8ff4f0960": {
      "model_module": "jupyter-js-widgets",
      "model_module_version": "~2.1.4",
      "model_name": "DropdownModel",
      "state": {
       "_model_module_version": "~2.1.4",
       "_options_labels": [
        "",
        "a1",
        "a2",
        "novo 1",
        "novo2"
       ],
       "_view_module_version": "~2.1.4",
       "description": "Classificadores:",
       "layout": "IPY_MODEL_08fdffefc798471cb1d2fa6e2bafc363"
      }
     },
     "881fe7a06ed4494a80943f81a721fbe2": {
      "model_module": "jupyter-js-widgets",
      "model_module_version": "~2.1.4",
      "model_name": "LayoutModel",
      "state": {
       "_model_module_version": "~2.1.4",
       "_view_module_version": "~2.1.4"
      }
     },
     "8b9c584dd07e4f9a90b8e11dc02cf7f9": {
      "model_module": "jupyter-js-widgets",
      "model_module_version": "~2.1.4",
      "model_name": "LayoutModel",
      "state": {
       "_model_module_version": "~2.1.4",
       "_view_module_version": "~2.1.4"
      }
     },
     "8becb986d0814230882191415141e55e": {
      "model_module": "jupyter-js-widgets",
      "model_module_version": "~2.1.4",
      "model_name": "LayoutModel",
      "state": {
       "_model_module_version": "~2.1.4",
       "_view_module_version": "~2.1.4"
      }
     },
     "8bf3fc036cbc4c8cba442c85133e6642": {
      "model_module": "jupyter-js-widgets",
      "model_module_version": "~2.1.4",
      "model_name": "ButtonModel",
      "state": {
       "_model_module_version": "~2.1.4",
       "_view_module_version": "~2.1.4",
       "description": "Novo Classificador",
       "layout": "IPY_MODEL_e3fd44aae3e4416483ef55bb7c060de4",
       "style": "IPY_MODEL_fe9c06e6b2c849ed8675a3c5ec9f0159"
      }
     },
     "8d1efd3567fa40ac9b8c3d55d17c6e20": {
      "model_module": "jupyter-js-widgets",
      "model_module_version": "~2.1.4",
      "model_name": "DropdownModel",
      "state": {
       "_model_module_version": "~2.1.4",
       "_options_labels": [
        "",
        "arrendamento mercantil operacional, propriedade intelectual, franquias empresariais e exploração de outros direitos",
        "combustíveis minerais, óleos minerais e produtos da sua destilação; matérias betuminosas; ceras minerais",
        "embarcações e estruturas flutuantes",
        "serviços de apoio às atividades empresariais",
        "serviços de publicação, impressão e reprodução",
        "serviços de transporte de passageiros",
        "serviços jurídicos e contábeis",
        "veículos automóveis, tratores, ciclos e outros veículos terrestres, suas partes e acessórios"
       ],
       "_view_module_version": "~2.1.4",
       "description": "Classificadores:",
       "layout": "IPY_MODEL_221c47745ac645338251898d096b085a",
       "value": "serviços jurídicos e contábeis"
      }
     },
     "93fe18997d31436cb0ed979171b717dd": {
      "model_module": "jupyter-js-widgets",
      "model_module_version": "~2.1.4",
      "model_name": "LayoutModel",
      "state": {
       "_model_module_version": "~2.1.4",
       "_view_module_version": "~2.1.4"
      }
     },
     "9925fb740e1548d7aac8457443bc15e5": {
      "model_module": "jupyter-js-widgets",
      "model_module_version": "~2.1.4",
      "model_name": "ButtonStyleModel",
      "state": {
       "_model_module_version": "~2.1.4",
       "_view_module_version": "~2.1.4"
      }
     },
     "9c3e26c3e8dc4aa9a608d0f0ed858f4a": {
      "model_module": "jupyter-js-widgets",
      "model_module_version": "~2.1.4",
      "model_name": "TextModel",
      "state": {
       "_model_module_version": "~2.1.4",
       "_view_module_version": "~2.1.4",
       "description": "Novo Classificador",
       "layout": "IPY_MODEL_bae66c250c804242be47b47a7c41d769"
      }
     },
     "9e4a6723d919468b9cb465f8750aad11": {
      "model_module": "jupyter-js-widgets",
      "model_module_version": "~2.1.4",
      "model_name": "ButtonStyleModel",
      "state": {
       "_model_module_version": "~2.1.4",
       "_view_module_version": "~2.1.4"
      }
     },
     "9e56f3152746406aa0b3c34211577df6": {
      "model_module": "jupyter-js-widgets",
      "model_module_version": "~2.1.4",
      "model_name": "LayoutModel",
      "state": {
       "_model_module_version": "~2.1.4",
       "_view_module_version": "~2.1.4"
      }
     },
     "9ea162e70cdd4e379037372cdd54b653": {
      "model_module": "jupyter-js-widgets",
      "model_module_version": "~2.1.4",
      "model_name": "DropdownModel",
      "state": {
       "_model_module_version": "~2.1.4",
       "_options_labels": [
        ""
       ],
       "_view_module_version": "~2.1.4",
       "description": "Classificadores:",
       "layout": "IPY_MODEL_93fe18997d31436cb0ed979171b717dd"
      }
     },
     "a176e31127f642138c58bbde9cb6699f": {
      "model_module": "jupyter-js-widgets",
      "model_module_version": "~2.1.4",
      "model_name": "ButtonStyleModel",
      "state": {
       "_model_module_version": "~2.1.4",
       "_view_module_version": "~2.1.4"
      }
     },
     "a4bb1e21e7fe4ad787d1ad7b338da9e3": {
      "model_module": "jupyter-js-widgets",
      "model_module_version": "~2.1.4",
      "model_name": "DropdownModel",
      "state": {
       "_model_module_version": "~2.1.4",
       "_options_labels": [
        "",
        "arrendamento mercantil operacional, propriedade intelectual, franquias empresariais e exploração de outros direitos\n",
        "combustíveis minerais, óleos minerais e produtos da sua destilação; matérias betuminosas; ceras minerais\n",
        "embarcações e estruturas flutuantes\n",
        "outros serviços profissionais",
        "pastas de madeira ou de outras matérias fibrosas celulósicas; papel ou cartão para reciclar (desperdícios e aparas)",
        "serviços de apoio às atividades empresariais\n",
        "serviços de publicação, impressão e reprodução\n",
        "serviços de transporte de passageiros\n",
        "serviços jurídicos e contábeis\n",
        "serviços recreativos, culturais e desportivos",
        "veículos automóveis, tratores, ciclos e outros veículos terrestres, suas partes e acessórios\n"
       ],
       "_view_module_version": "~2.1.4",
       "description": "Classificadores:",
       "layout": "IPY_MODEL_f4154241a6e44bd2955bbad779ed3f09",
       "value": "outros serviços profissionais"
      }
     },
     "a5b6fcd77091447f83150e256650934d": {
      "model_module": "jupyter-js-widgets",
      "model_module_version": "~2.1.4",
      "model_name": "ButtonModel",
      "state": {
       "_model_module_version": "~2.1.4",
       "_view_module_version": "~2.1.4",
       "description": "Próximo",
       "layout": "IPY_MODEL_f2d026868e574c50abf78696d45f4066",
       "style": "IPY_MODEL_9e4a6723d919468b9cb465f8750aad11"
      }
     },
     "a72a56b468314f92938be5200f22e409": {
      "model_module": "jupyter-js-widgets",
      "model_module_version": "~2.1.4",
      "model_name": "ButtonModel",
      "state": {
       "_model_module_version": "~2.1.4",
       "_view_module_version": "~2.1.4",
       "description": "Próximo",
       "layout": "IPY_MODEL_5ebbc9695f934ceb9e01f20bb2948b83",
       "style": "IPY_MODEL_f943a7d6c97a4eb4899b1c64b3a256ed"
      }
     },
     "a9ed7c0ef7cf40ae9de6051f95f99852": {
      "model_module": "jupyter-js-widgets",
      "model_module_version": "~2.1.4",
      "model_name": "ButtonStyleModel",
      "state": {
       "_model_module_version": "~2.1.4",
       "_view_module_version": "~2.1.4"
      }
     },
     "aa290fe560d040ccaa34a51d982f3b85": {
      "model_module": "jupyter-js-widgets",
      "model_module_version": "~2.1.4",
      "model_name": "LayoutModel",
      "state": {
       "_model_module_version": "~2.1.4",
       "_view_module_version": "~2.1.4"
      }
     },
     "aabf46c83ac3483bbc5332bf8cfc24a3": {
      "model_module": "jupyter-js-widgets",
      "model_module_version": "~2.1.4",
      "model_name": "LayoutModel",
      "state": {
       "_model_module_version": "~2.1.4",
       "_view_module_version": "~2.1.4"
      }
     },
     "accf2d28cf244623a96e60e85734bfb6": {
      "model_module": "jupyter-js-widgets",
      "model_module_version": "~2.1.4",
      "model_name": "DropdownModel",
      "state": {
       "_model_module_version": "~2.1.4",
       "_options_labels": [
        "",
        "teste"
       ],
       "_view_module_version": "~2.1.4",
       "description": "Classificadores:",
       "layout": "IPY_MODEL_40c9c76b013a401f9bcef68998687284"
      }
     },
     "af350e200bd34ca88373e0392895e0cf": {
      "model_module": "jupyter-js-widgets",
      "model_module_version": "~2.1.4",
      "model_name": "ButtonModel",
      "state": {
       "_model_module_version": "~2.1.4",
       "_view_module_version": "~2.1.4",
       "description": "Classificar",
       "layout": "IPY_MODEL_9e56f3152746406aa0b3c34211577df6",
       "style": "IPY_MODEL_09dd60f1976f431da0584ae26fca97e3"
      }
     },
     "b04613308771489a962f07ccc41d68f9": {
      "model_module": "jupyter-js-widgets",
      "model_module_version": "~2.1.4",
      "model_name": "TextModel",
      "state": {
       "_model_module_version": "~2.1.4",
       "_view_module_version": "~2.1.4",
       "description": "Novo Classificador",
       "layout": "IPY_MODEL_8becb986d0814230882191415141e55e"
      }
     },
     "b3507e46ac0349c0bf68d5bf8ede5469": {
      "model_module": "jupyter-js-widgets",
      "model_module_version": "~2.1.4",
      "model_name": "ButtonModel",
      "state": {
       "_model_module_version": "~2.1.4",
       "_view_module_version": "~2.1.4",
       "description": "Classificar",
       "layout": "IPY_MODEL_35c80938466a48a59096643dcd2a3bda",
       "style": "IPY_MODEL_a9ed7c0ef7cf40ae9de6051f95f99852"
      }
     },
     "b36dba2764f0436ca63ccc91a9e7063d": {
      "model_module": "jupyter-js-widgets",
      "model_module_version": "~2.1.4",
      "model_name": "ButtonModel",
      "state": {
       "_model_module_version": "~2.1.4",
       "_view_module_version": "~2.1.4",
       "description": "Próximo",
       "layout": "IPY_MODEL_f4304fb4f67146f4b2b091d41d4af7e4",
       "style": "IPY_MODEL_69f02577229c417d86caece1e9505ecd"
      }
     },
     "b60a607d7be247aabce7c26ccfc8713d": {
      "model_module": "jupyter-js-widgets",
      "model_module_version": "~2.1.4",
      "model_name": "LayoutModel",
      "state": {
       "_model_module_version": "~2.1.4",
       "_view_module_version": "~2.1.4"
      }
     },
     "b65e248211f8455a873f85fdf64f5e67": {
      "model_module": "jupyter-js-widgets",
      "model_module_version": "~2.1.4",
      "model_name": "LayoutModel",
      "state": {
       "_model_module_version": "~2.1.4",
       "_view_module_version": "~2.1.4"
      }
     },
     "b77d27851741400bb4c4335a4cc28d36": {
      "model_module": "jupyter-js-widgets",
      "model_module_version": "~2.1.4",
      "model_name": "TextModel",
      "state": {
       "_model_module_version": "~2.1.4",
       "_view_module_version": "~2.1.4",
       "description": "Novo Classificador",
       "layout": "IPY_MODEL_3000186632c94a24ba714e025ad9039c"
      }
     },
     "b87db851c02a467391f35f709a59647a": {
      "model_module": "jupyter-js-widgets",
      "model_module_version": "~2.1.4",
      "model_name": "ButtonModel",
      "state": {
       "_model_module_version": "~2.1.4",
       "_view_module_version": "~2.1.4",
       "description": "Novo Classificador",
       "layout": "IPY_MODEL_373968fef4024085a633c178dc9017ab",
       "style": "IPY_MODEL_1a080e38da1b4a3c84eb9dbddd48cc80"
      }
     },
     "b9aefb18f5fb48aa9ca418d9c8eaf842": {
      "model_module": "jupyter-js-widgets",
      "model_module_version": "~2.1.4",
      "model_name": "LayoutModel",
      "state": {
       "_model_module_version": "~2.1.4",
       "_view_module_version": "~2.1.4"
      }
     },
     "bae66c250c804242be47b47a7c41d769": {
      "model_module": "jupyter-js-widgets",
      "model_module_version": "~2.1.4",
      "model_name": "LayoutModel",
      "state": {
       "_model_module_version": "~2.1.4",
       "_view_module_version": "~2.1.4"
      }
     },
     "bd6c6c7e0954447b97b4c2e6ec8a4b2d": {
      "model_module": "jupyter-js-widgets",
      "model_module_version": "~2.1.4",
      "model_name": "LayoutModel",
      "state": {
       "_model_module_version": "~2.1.4",
       "_view_module_version": "~2.1.4"
      }
     },
     "bd71b4e6ad704c33bc1e5aad3a249a99": {
      "model_module": "jupyter-js-widgets",
      "model_module_version": "~2.1.4",
      "model_name": "ButtonStyleModel",
      "state": {
       "_model_module_version": "~2.1.4",
       "_view_module_version": "~2.1.4"
      }
     },
     "bdaa13866cf94c00b6711f3fcccd60ce": {
      "model_module": "jupyter-js-widgets",
      "model_module_version": "~2.1.4",
      "model_name": "ButtonStyleModel",
      "state": {
       "_model_module_version": "~2.1.4",
       "_view_module_version": "~2.1.4"
      }
     },
     "bdfd2c84c4f7414a9eb007b497b2a4c8": {
      "model_module": "jupyter-js-widgets",
      "model_module_version": "~2.1.4",
      "model_name": "LayoutModel",
      "state": {
       "_model_module_version": "~2.1.4",
       "_view_module_version": "~2.1.4"
      }
     },
     "be5cefc274f94d06bd3f12ece565bfbb": {
      "model_module": "jupyter-js-widgets",
      "model_module_version": "~2.1.4",
      "model_name": "ButtonStyleModel",
      "state": {
       "_model_module_version": "~2.1.4",
       "_view_module_version": "~2.1.4"
      }
     },
     "c0f048bbaf9f47a99ca4137b1b755167": {
      "model_module": "jupyter-js-widgets",
      "model_module_version": "~2.1.4",
      "model_name": "LayoutModel",
      "state": {
       "_model_module_version": "~2.1.4",
       "_view_module_version": "~2.1.4"
      }
     },
     "c1853738f9f64803a1f1e5f4803294e3": {
      "model_module": "jupyter-js-widgets",
      "model_module_version": "~2.1.4",
      "model_name": "ButtonModel",
      "state": {
       "_model_module_version": "~2.1.4",
       "_view_module_version": "~2.1.4",
       "description": "Classificar",
       "layout": "IPY_MODEL_7d6b93abb75b42329c5fa3417ed793c1",
       "style": "IPY_MODEL_25086823b5de4c199a11923005b7678a"
      }
     },
     "c19a9b88dc9049af9d1a521faf8db322": {
      "model_module": "jupyter-js-widgets",
      "model_module_version": "~2.1.4",
      "model_name": "ButtonStyleModel",
      "state": {
       "_model_module_version": "~2.1.4",
       "_view_module_version": "~2.1.4"
      }
     },
     "c242197891804a609b1918514904252e": {
      "model_module": "jupyter-js-widgets",
      "model_module_version": "~2.1.4",
      "model_name": "LayoutModel",
      "state": {
       "_model_module_version": "~2.1.4",
       "_view_module_version": "~2.1.4"
      }
     },
     "c2e7b41c880f4bfdb87a15f178d912b8": {
      "model_module": "jupyter-js-widgets",
      "model_module_version": "~2.1.4",
      "model_name": "LayoutModel",
      "state": {
       "_model_module_version": "~2.1.4",
       "_view_module_version": "~2.1.4"
      }
     },
     "c5406898d9b241b6b0da5c7b9d6e705a": {
      "model_module": "jupyter-js-widgets",
      "model_module_version": "~2.1.4",
      "model_name": "LayoutModel",
      "state": {
       "_model_module_version": "~2.1.4",
       "_view_module_version": "~2.1.4"
      }
     },
     "c9f73e9625494fd89933d31c65449210": {
      "model_module": "jupyter-js-widgets",
      "model_module_version": "~2.1.4",
      "model_name": "ButtonModel",
      "state": {
       "_model_module_version": "~2.1.4",
       "_view_module_version": "~2.1.4",
       "description": "Novo Classificador",
       "layout": "IPY_MODEL_564506707d3440a0b7079e6a66f2355e",
       "style": "IPY_MODEL_c19a9b88dc9049af9d1a521faf8db322"
      }
     },
     "ce42e4ea5d4347d794dd1bfc10630eb0": {
      "model_module": "jupyter-js-widgets",
      "model_module_version": "~2.1.4",
      "model_name": "ButtonModel",
      "state": {
       "_model_module_version": "~2.1.4",
       "_view_module_version": "~2.1.4",
       "description": "Novo Classificador",
       "layout": "IPY_MODEL_f1d5d92624d74e57b1e878dbb7be5a4a",
       "style": "IPY_MODEL_be5cefc274f94d06bd3f12ece565bfbb"
      }
     },
     "d1371f1ce5e2485fb83709b00e12fbd0": {
      "model_module": "jupyter-js-widgets",
      "model_module_version": "~2.1.4",
      "model_name": "DropdownModel",
      "state": {
       "_model_module_version": "~2.1.4",
       "_options_labels": [
        "",
        "arrendamento mercantil operacional, propriedade intelectual, franquias empresariais e exploração de outros direitos\n",
        "combustíveis minerais, óleos minerais e produtos da sua destilação; matérias betuminosas; ceras minerais\n",
        "embarcações e estruturas flutuantes\n",
        "serviços de apoio às atividades empresariais\n",
        "serviços de publicação, impressão e reprodução\n",
        "serviços de transporte de passageiros\n",
        "serviços jurídicos e contábeis\n",
        "veículos automóveis, tratores, ciclos e outros veículos terrestres, suas partes e acessórios\n"
       ],
       "_view_module_version": "~2.1.4",
       "description": "Classificadores:",
       "layout": "IPY_MODEL_d5244f65e6d744d686f0989304535aa0",
       "value": "serviços de publicação, impressão e reprodução\n"
      }
     },
     "d1eb1cb297164f49b2432ea30c792048": {
      "model_module": "jupyter-js-widgets",
      "model_module_version": "~2.1.4",
      "model_name": "LayoutModel",
      "state": {
       "_model_module_version": "~2.1.4",
       "_view_module_version": "~2.1.4"
      }
     },
     "d5244f65e6d744d686f0989304535aa0": {
      "model_module": "jupyter-js-widgets",
      "model_module_version": "~2.1.4",
      "model_name": "LayoutModel",
      "state": {
       "_model_module_version": "~2.1.4",
       "_view_module_version": "~2.1.4"
      }
     },
     "d5895b7865324e1f82c1d8ab9575d2f9": {
      "model_module": "jupyter-js-widgets",
      "model_module_version": "~2.1.4",
      "model_name": "ButtonStyleModel",
      "state": {
       "_model_module_version": "~2.1.4",
       "_view_module_version": "~2.1.4"
      }
     },
     "dabf9f60905841e0b327dfdd3c152571": {
      "model_module": "jupyter-js-widgets",
      "model_module_version": "~2.1.4",
      "model_name": "ButtonStyleModel",
      "state": {
       "_model_module_version": "~2.1.4",
       "_view_module_version": "~2.1.4"
      }
     },
     "dd73488aca764402b4e6f2adadac5325": {
      "model_module": "jupyter-js-widgets",
      "model_module_version": "~2.1.4",
      "model_name": "ButtonModel",
      "state": {
       "_model_module_version": "~2.1.4",
       "_view_module_version": "~2.1.4",
       "description": "Classificar",
       "layout": "IPY_MODEL_584c3559a60b483c93139eb5dfbe8e9a",
       "style": "IPY_MODEL_7583e61f5fa540a282bac5b4b7e40997"
      }
     },
     "de2067dbaf7a4e6c8f9af20a7bc3e502": {
      "model_module": "jupyter-js-widgets",
      "model_module_version": "~2.1.4",
      "model_name": "ButtonModel",
      "state": {
       "_model_module_version": "~2.1.4",
       "_view_module_version": "~2.1.4",
       "description": "Classificar",
       "layout": "IPY_MODEL_e25a9db631b5486a896866754cee99da",
       "style": "IPY_MODEL_3c261b73d3c7487fa2af6d8fadfcba15"
      }
     },
     "e00a0d5eb68b4a2b92c6f3c540682406": {
      "model_module": "jupyter-js-widgets",
      "model_module_version": "~2.1.4",
      "model_name": "ButtonStyleModel",
      "state": {
       "_model_module_version": "~2.1.4",
       "_view_module_version": "~2.1.4"
      }
     },
     "e25a9db631b5486a896866754cee99da": {
      "model_module": "jupyter-js-widgets",
      "model_module_version": "~2.1.4",
      "model_name": "LayoutModel",
      "state": {
       "_model_module_version": "~2.1.4",
       "_view_module_version": "~2.1.4"
      }
     },
     "e3fd44aae3e4416483ef55bb7c060de4": {
      "model_module": "jupyter-js-widgets",
      "model_module_version": "~2.1.4",
      "model_name": "LayoutModel",
      "state": {
       "_model_module_version": "~2.1.4",
       "_view_module_version": "~2.1.4"
      }
     },
     "e468d5a4d2724ee5ab386050306fb852": {
      "model_module": "jupyter-js-widgets",
      "model_module_version": "~2.1.4",
      "model_name": "ButtonStyleModel",
      "state": {
       "_model_module_version": "~2.1.4",
       "_view_module_version": "~2.1.4"
      }
     },
     "e4a617792d4d4fc4ab483026d4c38065": {
      "model_module": "jupyter-js-widgets",
      "model_module_version": "~2.1.4",
      "model_name": "LayoutModel",
      "state": {
       "_model_module_version": "~2.1.4",
       "_view_module_version": "~2.1.4"
      }
     },
     "e7cdd567f7be4a7a922747d88f36b84d": {
      "model_module": "jupyter-js-widgets",
      "model_module_version": "~2.1.4",
      "model_name": "TextModel",
      "state": {
       "_model_module_version": "~2.1.4",
       "_view_module_version": "~2.1.4",
       "description": "Novo Classificador",
       "layout": "IPY_MODEL_6e934a39863b410c8f409ddcfb3ea50e"
      }
     },
     "ebb93995c03d436ab6abfa81a2b43731": {
      "model_module": "jupyter-js-widgets",
      "model_module_version": "~2.1.4",
      "model_name": "TextModel",
      "state": {
       "_model_module_version": "~2.1.4",
       "_view_module_version": "~2.1.4",
       "description": "Novo Classificador",
       "layout": "IPY_MODEL_38b2a3948d3a407f95d1ae0043480c48"
      }
     },
     "ef43cfd6b9e548469fa20a01e5db7bd1": {
      "model_module": "jupyter-js-widgets",
      "model_module_version": "~2.1.4",
      "model_name": "ButtonModel",
      "state": {
       "_model_module_version": "~2.1.4",
       "_view_module_version": "~2.1.4",
       "description": "Novo Classificador",
       "layout": "IPY_MODEL_aabf46c83ac3483bbc5332bf8cfc24a3",
       "style": "IPY_MODEL_2e8524cd0ac3456c8c404485623dffc8"
      }
     },
     "f1d5d92624d74e57b1e878dbb7be5a4a": {
      "model_module": "jupyter-js-widgets",
      "model_module_version": "~2.1.4",
      "model_name": "LayoutModel",
      "state": {
       "_model_module_version": "~2.1.4",
       "_view_module_version": "~2.1.4"
      }
     },
     "f21e9724f40844aeb7cdfcc2018501f6": {
      "model_module": "jupyter-js-widgets",
      "model_module_version": "~2.1.4",
      "model_name": "ButtonStyleModel",
      "state": {
       "_model_module_version": "~2.1.4",
       "_view_module_version": "~2.1.4"
      }
     },
     "f24b33863b854792b7cb9577f6277486": {
      "model_module": "jupyter-js-widgets",
      "model_module_version": "~2.1.4",
      "model_name": "LayoutModel",
      "state": {
       "_model_module_version": "~2.1.4",
       "_view_module_version": "~2.1.4"
      }
     },
     "f2d026868e574c50abf78696d45f4066": {
      "model_module": "jupyter-js-widgets",
      "model_module_version": "~2.1.4",
      "model_name": "LayoutModel",
      "state": {
       "_model_module_version": "~2.1.4",
       "_view_module_version": "~2.1.4"
      }
     },
     "f4154241a6e44bd2955bbad779ed3f09": {
      "model_module": "jupyter-js-widgets",
      "model_module_version": "~2.1.4",
      "model_name": "LayoutModel",
      "state": {
       "_model_module_version": "~2.1.4",
       "_view_module_version": "~2.1.4"
      }
     },
     "f4304fb4f67146f4b2b091d41d4af7e4": {
      "model_module": "jupyter-js-widgets",
      "model_module_version": "~2.1.4",
      "model_name": "LayoutModel",
      "state": {
       "_model_module_version": "~2.1.4",
       "_view_module_version": "~2.1.4"
      }
     },
     "f673690616d046eaa9ce2c1bfb49a947": {
      "model_module": "jupyter-js-widgets",
      "model_module_version": "~2.1.4",
      "model_name": "ButtonStyleModel",
      "state": {
       "_model_module_version": "~2.1.4",
       "_view_module_version": "~2.1.4"
      }
     },
     "f8d05d253c434d719b9771c413bc3689": {
      "model_module": "jupyter-js-widgets",
      "model_module_version": "~2.1.4",
      "model_name": "LayoutModel",
      "state": {
       "_model_module_version": "~2.1.4",
       "_view_module_version": "~2.1.4"
      }
     },
     "f943a7d6c97a4eb4899b1c64b3a256ed": {
      "model_module": "jupyter-js-widgets",
      "model_module_version": "~2.1.4",
      "model_name": "ButtonStyleModel",
      "state": {
       "_model_module_version": "~2.1.4",
       "_view_module_version": "~2.1.4"
      }
     },
     "f9a2c5891cff4591befc0f7644e3fcbf": {
      "model_module": "jupyter-js-widgets",
      "model_module_version": "~2.1.4",
      "model_name": "DropdownModel",
      "state": {
       "_model_module_version": "~2.1.4",
       "_options_labels": [
        "",
        "a",
        "teste",
        "teste 3",
        "teste1"
       ],
       "_view_module_version": "~2.1.4",
       "description": "Classificadores:",
       "layout": "IPY_MODEL_5ae4510e08ed4096bb82f37cc618d3db"
      }
     },
     "f9b4cb125b27459cb0d2702c4b21ecea": {
      "model_module": "jupyter-js-widgets",
      "model_module_version": "~2.1.4",
      "model_name": "ButtonModel",
      "state": {
       "_model_module_version": "~2.1.4",
       "_view_module_version": "~2.1.4",
       "description": "Próximo",
       "layout": "IPY_MODEL_b9aefb18f5fb48aa9ca418d9c8eaf842",
       "style": "IPY_MODEL_bdaa13866cf94c00b6711f3fcccd60ce"
      }
     },
     "fa68352a1efa42f6a010bfefd8b1dd14": {
      "model_module": "jupyter-js-widgets",
      "model_module_version": "~2.1.4",
      "model_name": "TextModel",
      "state": {
       "_model_module_version": "~2.1.4",
       "_view_module_version": "~2.1.4",
       "description": "Novo Classificador",
       "layout": "IPY_MODEL_05e881b2f6284158b657651214ad4d89",
       "value": "Outros serviços profissionais"
      }
     },
     "fe8c275bf9bf41fc8411730224f17273": {
      "model_module": "jupyter-js-widgets",
      "model_module_version": "~2.1.4",
      "model_name": "TextModel",
      "state": {
       "_model_module_version": "~2.1.4",
       "_view_module_version": "~2.1.4",
       "description": "Novo Classificador",
       "layout": "IPY_MODEL_767a982d5feb48a99ba89608939436c9"
      }
     },
     "fe9c06e6b2c849ed8675a3c5ec9f0159": {
      "model_module": "jupyter-js-widgets",
      "model_module_version": "~2.1.4",
      "model_name": "ButtonStyleModel",
      "state": {
       "_model_module_version": "~2.1.4",
       "_view_module_version": "~2.1.4"
      }
     },
     "fff7096c30414fa197070785515a1580": {
      "model_module": "jupyter-js-widgets",
      "model_module_version": "~2.1.4",
      "model_name": "TextModel",
      "state": {
       "_model_module_version": "~2.1.4",
       "_view_module_version": "~2.1.4",
       "description": "Novo Classificador",
       "layout": "IPY_MODEL_c242197891804a609b1918514904252e"
      }
     }
    },
    "version_major": 1,
    "version_minor": 0
   }
  }
 },
 "nbformat": 4,
 "nbformat_minor": 2
}
