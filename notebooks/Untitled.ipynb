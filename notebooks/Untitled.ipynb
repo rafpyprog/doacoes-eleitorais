{
 "cells": [
  {
   "cell_type": "code",
   "execution_count": 13,
   "metadata": {},
   "outputs": [],
   "source": [
    "import pandas as pd\n",
    "import requests\n",
    "import re"
   ]
  },
  {
   "cell_type": "code",
   "execution_count": 60,
   "metadata": {},
   "outputs": [],
   "source": [
    "data = '<table cellspacing=\"1\" cellpadding=\"3\" class=\"tb01m\" style=\"font-size:0.8em\"><thead class=\"thd02\"><tr><th>Moeda</th><th style=\"white-space:normal\">Real R$ desde 01/07/94</th><th style=\"white-space:normal\">Cruzeiro Real CR$ de 01/08/93 a 30/06/94</th><th style=\"white-space:normal\">Cruzeiro Cr$ de 16/03/90 a 31/07/93</th><th style=\"white-space:normal\">Cruzado Novo NCz$ de 16/01/89 a 15/03/90</th><th style=\"white-space:normal\">Cruzado Cz$ de 28/02/86 a 15/01/89</th><th style=\"white-space:normal\">Cruzeiro Cr$ de 15/05/70 a 27/02/86</th><th style=\"white-space:normal\">Cruzeiro Novo NCr$ de 13/02/67 a 14/05/70</th><th style=\"white-space:normal\">Cruzeiro Cr$ de 01/11/42 a 12/02/67</th></tr></thead><tbody class=\"tbody01\"><tr class=\"tr05\"><td class=\"tdif02\">Real R$<br> desde 01/07/94</td><td class=\"tdgen01\">&nbsp;</td><td>CR$ =<br>R$*1000*2,75</td><td>Cr$ =<br>R$*(1000^2*2,75)</td><td>NCz$ =<br>R$*(1000^2*2,75)</td><td>Cz$ =<br>R$*(1000^3*2,75)</td><td>Cr$ =<br>R$*(1000^4*2,75)</td><td>NCr$ =<br>R$*(1000^4*2,75)</td><td>Cr$ =<br>R$*(1000^5*2,75)</td></tr><tr class=\"tr04\"><td class=\"tdif02\">Cruzeiro <br>Real CR$ de<br>01/08/93 a<br>30/06/94</td><td>R$ =<br>CR$/(1000*2,75)</td><td class=\"tdgen01\">&nbsp;</td><td>Cr$ =<br>CR$*1000</td><td>NCz$ =<br>CR$*1000</td><td>Cz$ =<br>CR$*(1000^2)</td><td>Cr$ =<br>CR$*(1000^3)</td><td>NCr$ =<br>CR$*(1000^3)</td><td>Cr$ =<br>CR$*(1000^4)</td></tr><tr class=\"tr05\"><td class=\"tdif02\">Cruzeiro Cr$ de<br>16/03/90 a<br>31/07/93</td><td>R$ =<br>Cr$/(1000^2*2,75)</td><td>CR$ =<br>Cr$/1000</td><td class=\"tdgen01\">&nbsp;</td><td>NCz$ =<br>Cr$</td><td>Cz$ =<br>Cr$*1000</td><td>Cr$ =<br>Cr$*(1000^2)</td><td>NCr$ =<br>Cr$*(1000^2)</td><td>Cr$ =<br>Cr$*(1000^3)</td></tr><tr class=\"tr04\"><td class=\"tdif02\">Cruzado<br>Novo NCz$ de<br>16/01/89 a<br>15/03/90</td><td>R$ =<br>NCz$/(1000^2*2,75)</td><td>CR$ =<br>NCz$/1000</td><td>Cr$ =<br>Cz$</td><td class=\"tdgen01\">&nbsp;</td><td>Cz$ =<br>NCz$*1000</td><td>Cr$ =<br>NCz$*(1000^2)</td><td>NCr$ =<br>NCz$*(1000^2)</td><td>Cr$ =<br>NCz$*(1000^3)</td></tr><tr class=\"tr05\"><td class=\"tdif02\">Cruzado Cz$ de<br>28/02/86 a<br>15/01/89</td><td>R$ =<br>Cz$/(1000^3*2,75)</td><td>CR$ =<br>Cz$/(1000^2)</td><td>Cr$ =<br>Cz$/1000</td><td>NCz$ =<br>Cz$/1000</td><td class=\"tdgen01\">&nbsp;</td><td>Cr$ =<br>Cz$*1000</td><td>NCr$ =<br>Cz$*1000</td><td>Cr$ =<br>Cz$*(1000^2)</td></tr><tr class=\"tr04\"><td class=\"tdif02\">Cruzeiro Cr$ de<br>15/05/70 a<br>27/02/86</td><td>R$ =<br>Cr$/(1000^4*2,75)</td><td>CR$ =<br>Cr$/(1000^3)</td><td>Cr$ =<br>Cr$/(1000^2)</td><td>NCz$ =<br>Cr$/(1000^2)</td><td>Cz$ =<br>Cr$/1000</td><td class=\"tdgen01\">&nbsp;</td><td>NCr$ =<br>Cr$</td><td>Cr$ =<br>Cr$*1000</td></tr><tr class=\"tr05\"><td class=\"tdif02\">Cruzeiro<br>Novo NCr$ de<br>13/02/67 a<br>14/05/70</td><td>R$ =<br>NCr$/(1000^4*2,75)</td><td>CR$ =<br>NCr$/(1000^3)</td><td>Cr$ =<br>NCr$/(1000^2)</td><td>NCz$ =<br>NCr$/(1000^2)</td><td>Cz$ =<br>NCr$/1000</td><td>Cr$ =<br>NCr$</td><td class=\"tdgen01\">&nbsp;</td><td>Cr$ =<br>NCr$*1000</td></tr><tr class=\"tr04\"><td class=\"tdif02\">Cruzeiro Cr$<br>de 01/11/42 a<br>12/02/67</td><td>R$ =<br>Cr$/(1000^5*2,75)</td><td>CR$ =<br>Cr$/(1000^4)</td><td>Cr$ =<br>Cr$/(1000^3)</td><td>NCz$ =<br>Cr$/(1000^3)</td><td>Cz$ =<br>Cr$/(1000^2)</td><td>Cr$ =<br>Cr$/1000</td><td>NCr$ =<br>Cr$/1000</td><td class=\"tdgen01\">&nbsp;</td></tr></tbody></table>'"
   ]
  },
  {
   "cell_type": "code",
   "execution_count": 61,
   "metadata": {},
   "outputs": [
    {
     "data": {
      "text/plain": [
       "0    DatetimeIndex(['1994-01-07', '1994-01-08', '19...\n",
       "1    DatetimeIndex(['1993-08-01', '1993-08-02', '19...\n",
       "2    DatetimeIndex(['1990-03-16', '1990-03-17', '19...\n",
       "3    DatetimeIndex(['1989-01-16', '1989-01-17', '19...\n",
       "4    DatetimeIndex(['1986-02-28', '1986-03-01', '19...\n",
       "5    DatetimeIndex(['1970-05-15', '1970-05-16', '19...\n",
       "6    DatetimeIndex(['1967-02-13', '1967-02-14', '19...\n",
       "7    DatetimeIndex(['1942-11-01', '1942-11-02', '19...\n",
       "Name: Moeda, dtype: object"
      ]
     },
     "execution_count": 61,
     "metadata": {},
     "output_type": "execute_result"
    }
   ],
   "source": [
    "df['Moeda']"
   ]
  },
  {
   "cell_type": "code",
   "execution_count": 62,
   "metadata": {},
   "outputs": [],
   "source": [
    "df = pd.read_html(data)[0]\n",
    "df.fillna(1)\n",
    "df['Moeda'] = df['Moeda'].map(lambda x: [i.group() for i in re.finditer('[0-9]{2}/[0-9]{2}/[0-9]{2}', x)])"
   ]
  },
  {
   "cell_type": "code",
   "execution_count": 64,
   "metadata": {},
   "outputs": [
    {
     "ename": "ValueError",
     "evalue": "Length of values does not match length of index",
     "output_type": "error",
     "traceback": [
      "\u001b[0;31m---------------------------------------------------------------------------\u001b[0m",
      "\u001b[0;31mValueError\u001b[0m                                Traceback (most recent call last)",
      "\u001b[0;32m<ipython-input-64-b36f0a5697fb>\u001b[0m in \u001b[0;36m<module>\u001b[0;34m()\u001b[0m\n\u001b[0;32m----> 1\u001b[0;31m \u001b[0mdf\u001b[0m\u001b[0;34m[\u001b[0m\u001b[0;34m'inicio'\u001b[0m\u001b[0;34m]\u001b[0m \u001b[0;34m=\u001b[0m \u001b[0mdf\u001b[0m\u001b[0;34m[\u001b[0m\u001b[0;34m'Moeda'\u001b[0m\u001b[0;34m]\u001b[0m\u001b[0;34m[\u001b[0m\u001b[0;36m0\u001b[0m\u001b[0;34m]\u001b[0m\u001b[0;34m\u001b[0m\u001b[0m\n\u001b[0m",
      "\u001b[0;32m/usr/local/lib/python3.6/site-packages/pandas/core/frame.py\u001b[0m in \u001b[0;36m__setitem__\u001b[0;34m(self, key, value)\u001b[0m\n\u001b[1;32m   2517\u001b[0m         \u001b[0;32melse\u001b[0m\u001b[0;34m:\u001b[0m\u001b[0;34m\u001b[0m\u001b[0m\n\u001b[1;32m   2518\u001b[0m             \u001b[0;31m# set column\u001b[0m\u001b[0;34m\u001b[0m\u001b[0;34m\u001b[0m\u001b[0m\n\u001b[0;32m-> 2519\u001b[0;31m             \u001b[0mself\u001b[0m\u001b[0;34m.\u001b[0m\u001b[0m_set_item\u001b[0m\u001b[0;34m(\u001b[0m\u001b[0mkey\u001b[0m\u001b[0;34m,\u001b[0m \u001b[0mvalue\u001b[0m\u001b[0;34m)\u001b[0m\u001b[0;34m\u001b[0m\u001b[0m\n\u001b[0m\u001b[1;32m   2520\u001b[0m \u001b[0;34m\u001b[0m\u001b[0m\n\u001b[1;32m   2521\u001b[0m     \u001b[0;32mdef\u001b[0m \u001b[0m_setitem_slice\u001b[0m\u001b[0;34m(\u001b[0m\u001b[0mself\u001b[0m\u001b[0;34m,\u001b[0m \u001b[0mkey\u001b[0m\u001b[0;34m,\u001b[0m \u001b[0mvalue\u001b[0m\u001b[0;34m)\u001b[0m\u001b[0;34m:\u001b[0m\u001b[0;34m\u001b[0m\u001b[0m\n",
      "\u001b[0;32m/usr/local/lib/python3.6/site-packages/pandas/core/frame.py\u001b[0m in \u001b[0;36m_set_item\u001b[0;34m(self, key, value)\u001b[0m\n\u001b[1;32m   2583\u001b[0m \u001b[0;34m\u001b[0m\u001b[0m\n\u001b[1;32m   2584\u001b[0m         \u001b[0mself\u001b[0m\u001b[0;34m.\u001b[0m\u001b[0m_ensure_valid_index\u001b[0m\u001b[0;34m(\u001b[0m\u001b[0mvalue\u001b[0m\u001b[0;34m)\u001b[0m\u001b[0;34m\u001b[0m\u001b[0m\n\u001b[0;32m-> 2585\u001b[0;31m         \u001b[0mvalue\u001b[0m \u001b[0;34m=\u001b[0m \u001b[0mself\u001b[0m\u001b[0;34m.\u001b[0m\u001b[0m_sanitize_column\u001b[0m\u001b[0;34m(\u001b[0m\u001b[0mkey\u001b[0m\u001b[0;34m,\u001b[0m \u001b[0mvalue\u001b[0m\u001b[0;34m)\u001b[0m\u001b[0;34m\u001b[0m\u001b[0m\n\u001b[0m\u001b[1;32m   2586\u001b[0m         \u001b[0mNDFrame\u001b[0m\u001b[0;34m.\u001b[0m\u001b[0m_set_item\u001b[0m\u001b[0;34m(\u001b[0m\u001b[0mself\u001b[0m\u001b[0;34m,\u001b[0m \u001b[0mkey\u001b[0m\u001b[0;34m,\u001b[0m \u001b[0mvalue\u001b[0m\u001b[0;34m)\u001b[0m\u001b[0;34m\u001b[0m\u001b[0m\n\u001b[1;32m   2587\u001b[0m \u001b[0;34m\u001b[0m\u001b[0m\n",
      "\u001b[0;32m/usr/local/lib/python3.6/site-packages/pandas/core/frame.py\u001b[0m in \u001b[0;36m_sanitize_column\u001b[0;34m(self, key, value, broadcast)\u001b[0m\n\u001b[1;32m   2758\u001b[0m \u001b[0;34m\u001b[0m\u001b[0m\n\u001b[1;32m   2759\u001b[0m             \u001b[0;31m# turn me into an ndarray\u001b[0m\u001b[0;34m\u001b[0m\u001b[0;34m\u001b[0m\u001b[0m\n\u001b[0;32m-> 2760\u001b[0;31m             \u001b[0mvalue\u001b[0m \u001b[0;34m=\u001b[0m \u001b[0m_sanitize_index\u001b[0m\u001b[0;34m(\u001b[0m\u001b[0mvalue\u001b[0m\u001b[0;34m,\u001b[0m \u001b[0mself\u001b[0m\u001b[0;34m.\u001b[0m\u001b[0mindex\u001b[0m\u001b[0;34m,\u001b[0m \u001b[0mcopy\u001b[0m\u001b[0;34m=\u001b[0m\u001b[0;32mFalse\u001b[0m\u001b[0;34m)\u001b[0m\u001b[0;34m\u001b[0m\u001b[0m\n\u001b[0m\u001b[1;32m   2761\u001b[0m             \u001b[0;32mif\u001b[0m \u001b[0;32mnot\u001b[0m \u001b[0misinstance\u001b[0m\u001b[0;34m(\u001b[0m\u001b[0mvalue\u001b[0m\u001b[0;34m,\u001b[0m \u001b[0;34m(\u001b[0m\u001b[0mnp\u001b[0m\u001b[0;34m.\u001b[0m\u001b[0mndarray\u001b[0m\u001b[0;34m,\u001b[0m \u001b[0mIndex\u001b[0m\u001b[0;34m)\u001b[0m\u001b[0;34m)\u001b[0m\u001b[0;34m:\u001b[0m\u001b[0;34m\u001b[0m\u001b[0m\n\u001b[1;32m   2762\u001b[0m                 \u001b[0;32mif\u001b[0m \u001b[0misinstance\u001b[0m\u001b[0;34m(\u001b[0m\u001b[0mvalue\u001b[0m\u001b[0;34m,\u001b[0m \u001b[0mlist\u001b[0m\u001b[0;34m)\u001b[0m \u001b[0;32mand\u001b[0m \u001b[0mlen\u001b[0m\u001b[0;34m(\u001b[0m\u001b[0mvalue\u001b[0m\u001b[0;34m)\u001b[0m \u001b[0;34m>\u001b[0m \u001b[0;36m0\u001b[0m\u001b[0;34m:\u001b[0m\u001b[0;34m\u001b[0m\u001b[0m\n",
      "\u001b[0;32m/usr/local/lib/python3.6/site-packages/pandas/core/series.py\u001b[0m in \u001b[0;36m_sanitize_index\u001b[0;34m(data, index, copy)\u001b[0m\n\u001b[1;32m   3078\u001b[0m \u001b[0;34m\u001b[0m\u001b[0m\n\u001b[1;32m   3079\u001b[0m     \u001b[0;32mif\u001b[0m \u001b[0mlen\u001b[0m\u001b[0;34m(\u001b[0m\u001b[0mdata\u001b[0m\u001b[0;34m)\u001b[0m \u001b[0;34m!=\u001b[0m \u001b[0mlen\u001b[0m\u001b[0;34m(\u001b[0m\u001b[0mindex\u001b[0m\u001b[0;34m)\u001b[0m\u001b[0;34m:\u001b[0m\u001b[0;34m\u001b[0m\u001b[0m\n\u001b[0;32m-> 3080\u001b[0;31m         \u001b[0;32mraise\u001b[0m \u001b[0mValueError\u001b[0m\u001b[0;34m(\u001b[0m\u001b[0;34m'Length of values does not match length of '\u001b[0m \u001b[0;34m'index'\u001b[0m\u001b[0;34m)\u001b[0m\u001b[0;34m\u001b[0m\u001b[0m\n\u001b[0m\u001b[1;32m   3081\u001b[0m \u001b[0;34m\u001b[0m\u001b[0m\n\u001b[1;32m   3082\u001b[0m     \u001b[0;32mif\u001b[0m \u001b[0misinstance\u001b[0m\u001b[0;34m(\u001b[0m\u001b[0mdata\u001b[0m\u001b[0;34m,\u001b[0m \u001b[0mPeriodIndex\u001b[0m\u001b[0;34m)\u001b[0m\u001b[0;34m:\u001b[0m\u001b[0;34m\u001b[0m\u001b[0m\n",
      "\u001b[0;31mValueError\u001b[0m: Length of values does not match length of index"
     ]
    }
   ],
   "source": [
    "df['inicio'] = df['Moeda'][0]"
   ]
  },
  {
   "cell_type": "code",
   "execution_count": 50,
   "metadata": {},
   "outputs": [],
   "source": [
    "import datetime\n",
    "def dt_range(x):\n",
    "    if len(x) == 2:\n",
    "        inicio = [int(i) for i in x[0].split('/')]\n",
    "        inicio = datetime.date(inicio[2] + 1900, inicio[1], inicio[0])        \n",
    "        \n",
    "        fim = [int(i) for i in x[1].split('/')]\n",
    "        fim = datetime.date(fim[2] + 1900, fim[1], fim[0])        \n",
    "        return pd.date_range(inicio, fim)\n",
    "    else:\n",
    "        return pd.date_range(x[0], datetime.date(2099, 12, 31))\n",
    "df['Moeda'] = df['Moeda'].map(dt_range)"
   ]
  },
  {
   "cell_type": "code",
   "execution_count": 59,
   "metadata": {},
   "outputs": [
    {
     "data": {
      "text/html": [
       "<div>\n",
       "<style scoped>\n",
       "    .dataframe tbody tr th:only-of-type {\n",
       "        vertical-align: middle;\n",
       "    }\n",
       "\n",
       "    .dataframe tbody tr th {\n",
       "        vertical-align: top;\n",
       "    }\n",
       "\n",
       "    .dataframe thead th {\n",
       "        text-align: right;\n",
       "    }\n",
       "</style>\n",
       "<table border=\"1\" class=\"dataframe\">\n",
       "  <thead>\n",
       "    <tr style=\"text-align: right;\">\n",
       "      <th></th>\n",
       "      <th>Moeda</th>\n",
       "      <th>Real R$ desde 01/07/94</th>\n",
       "      <th>Cruzeiro Real CR$ de 01/08/93 a 30/06/94</th>\n",
       "      <th>Cruzeiro Cr$ de 16/03/90 a 31/07/93</th>\n",
       "      <th>Cruzado Novo NCz$ de 16/01/89 a 15/03/90</th>\n",
       "      <th>Cruzado Cz$ de 28/02/86 a 15/01/89</th>\n",
       "      <th>Cruzeiro Cr$ de 15/05/70 a 27/02/86</th>\n",
       "      <th>Cruzeiro Novo NCr$ de 13/02/67 a 14/05/70</th>\n",
       "      <th>Cruzeiro Cr$ de 01/11/42 a 12/02/67</th>\n",
       "    </tr>\n",
       "  </thead>\n",
       "  <tbody>\n",
       "  </tbody>\n",
       "</table>\n",
       "</div>"
      ],
      "text/plain": [
       "Empty DataFrame\n",
       "Columns: [Moeda, Real R$ desde 01/07/94, Cruzeiro Real CR$ de 01/08/93 a 30/06/94, Cruzeiro Cr$ de 16/03/90 a 31/07/93, Cruzado Novo NCz$ de 16/01/89 a 15/03/90, Cruzado Cz$ de 28/02/86 a 15/01/89, Cruzeiro Cr$ de 15/05/70 a 27/02/86, Cruzeiro Novo NCr$ de 13/02/67 a 14/05/70, Cruzeiro Cr$ de 01/11/42 a 12/02/67]\n",
       "Index: []"
      ]
     },
     "execution_count": 59,
     "metadata": {},
     "output_type": "execute_result"
    }
   ],
   "source": [
    "df[df['Moeda'].map(lambda x: datetime.datetime.today() in x)]"
   ]
  }
 ],
 "metadata": {
  "kernelspec": {
   "display_name": "Python 3",
   "language": "python",
   "name": "python3"
  },
  "language_info": {
   "codemirror_mode": {
    "name": "ipython",
    "version": 3
   },
   "file_extension": ".py",
   "mimetype": "text/x-python",
   "name": "python",
   "nbconvert_exporter": "python",
   "pygments_lexer": "ipython3",
   "version": "3.6.3"
  }
 },
 "nbformat": 4,
 "nbformat_minor": 2
}
