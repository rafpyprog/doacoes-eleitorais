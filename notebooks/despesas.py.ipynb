{
 "cells": [
  {
   "cell_type": "code",
   "execution_count": 50,
   "metadata": {},
   "outputs": [],
   "source": [
    "import pandas as pd"
   ]
  },
  {
   "cell_type": "code",
   "execution_count": 51,
   "metadata": {},
   "outputs": [],
   "source": [
    "pd.options.display.float_format = '{:,.2f}'.format"
   ]
  },
  {
   "cell_type": "code",
   "execution_count": 1,
   "metadata": {},
   "outputs": [],
   "source": [
    "from eleicoes.despesas import *"
   ]
  },
  {
   "cell_type": "code",
   "execution_count": 2,
   "metadata": {},
   "outputs": [],
   "source": [
    "UF = 'SP'\n",
    "MUNICIPIO = 71072"
   ]
  },
  {
   "cell_type": "code",
   "execution_count": 3,
   "metadata": {},
   "outputs": [
    {
     "data": {
      "text/html": [
       "<div>\n",
       "<style scoped>\n",
       "    .dataframe tbody tr th:only-of-type {\n",
       "        vertical-align: middle;\n",
       "    }\n",
       "\n",
       "    .dataframe tbody tr th {\n",
       "        vertical-align: top;\n",
       "    }\n",
       "\n",
       "    .dataframe thead th {\n",
       "        text-align: right;\n",
       "    }\n",
       "</style>\n",
       "<table border=\"1\" class=\"dataframe\">\n",
       "  <thead>\n",
       "    <tr style=\"text-align: right;\">\n",
       "      <th></th>\n",
       "      <th>Cód. Eleição</th>\n",
       "      <th>Desc. Eleição</th>\n",
       "      <th>Data e hora</th>\n",
       "      <th>CNPJ Prestador Conta</th>\n",
       "      <th>Sequencial Candidato</th>\n",
       "      <th>UF</th>\n",
       "      <th>Sigla da UE</th>\n",
       "      <th>Nome da UE</th>\n",
       "      <th>Sigla  Partido</th>\n",
       "      <th>Número candidato</th>\n",
       "      <th>...</th>\n",
       "      <th>Número do documento</th>\n",
       "      <th>CPF/CNPJ do fornecedor</th>\n",
       "      <th>Nome do fornecedor</th>\n",
       "      <th>Nome do fornecedor (Receita Federal)</th>\n",
       "      <th>Cod setor econômico do fornecedor</th>\n",
       "      <th>Setor econômico do fornecedor</th>\n",
       "      <th>Data da despesa</th>\n",
       "      <th>Valor despesa</th>\n",
       "      <th>Tipo despesa</th>\n",
       "      <th>Descriçao da despesa</th>\n",
       "    </tr>\n",
       "  </thead>\n",
       "  <tbody>\n",
       "    <tr>\n",
       "      <th>7</th>\n",
       "      <td>220</td>\n",
       "      <td>Eleições Municipais 2016</td>\n",
       "      <td>13/12/2017 21:53:07</td>\n",
       "      <td>25410939000155</td>\n",
       "      <td>250000010863</td>\n",
       "      <td>SP</td>\n",
       "      <td>71072</td>\n",
       "      <td>SÃO PAULO</td>\n",
       "      <td>PHS</td>\n",
       "      <td>31800</td>\n",
       "      <td>...</td>\n",
       "      <td>359865249</td>\n",
       "      <td>1.109184e+12</td>\n",
       "      <td>UNIVERSO ONLINE S/A</td>\n",
       "      <td>UNIVERSO ONLINE S/A</td>\n",
       "      <td>6319400.0</td>\n",
       "      <td>Portais, provedores de conteúdo e outros servi...</td>\n",
       "      <td>30/08/201600:00:00</td>\n",
       "      <td>14.90</td>\n",
       "      <td>Criação e inclusão de páginas na internet</td>\n",
       "      <td>PROVEDOR DE ACESSO</td>\n",
       "    </tr>\n",
       "    <tr>\n",
       "      <th>8</th>\n",
       "      <td>220</td>\n",
       "      <td>Eleições Municipais 2016</td>\n",
       "      <td>13/12/2017 21:53:07</td>\n",
       "      <td>25490719000189</td>\n",
       "      <td>250000014888</td>\n",
       "      <td>SP</td>\n",
       "      <td>71072</td>\n",
       "      <td>SÃO PAULO</td>\n",
       "      <td>PSOL</td>\n",
       "      <td>50789</td>\n",
       "      <td>...</td>\n",
       "      <td>355132078</td>\n",
       "      <td>1.109184e+12</td>\n",
       "      <td>UNIVERSO ONLINE S/A</td>\n",
       "      <td>UNIVERSO ONLINE S/A</td>\n",
       "      <td>6319400.0</td>\n",
       "      <td>Portais, provedores de conteúdo e outros servi...</td>\n",
       "      <td>17/08/201600:00:00</td>\n",
       "      <td>39.90</td>\n",
       "      <td>Criação e inclusão de páginas na internet</td>\n",
       "      <td>HOSPEDAGEM DE SITE INTERNET</td>\n",
       "    </tr>\n",
       "    <tr>\n",
       "      <th>9</th>\n",
       "      <td>220</td>\n",
       "      <td>Eleições Municipais 2016</td>\n",
       "      <td>13/12/2017 21:53:07</td>\n",
       "      <td>25490719000189</td>\n",
       "      <td>250000014888</td>\n",
       "      <td>SP</td>\n",
       "      <td>71072</td>\n",
       "      <td>SÃO PAULO</td>\n",
       "      <td>PSOL</td>\n",
       "      <td>50789</td>\n",
       "      <td>...</td>\n",
       "      <td>17919386</td>\n",
       "      <td>1.109184e+12</td>\n",
       "      <td>UNIVERSO ONLINE S/A</td>\n",
       "      <td>UNIVERSO ONLINE S/A</td>\n",
       "      <td>6319400.0</td>\n",
       "      <td>Portais, provedores de conteúdo e outros servi...</td>\n",
       "      <td>26/09/201600:00:00</td>\n",
       "      <td>448.85</td>\n",
       "      <td>Despesas com Hospedagem</td>\n",
       "      <td>HOSPEDAGEM DE SITE INTERNET</td>\n",
       "    </tr>\n",
       "    <tr>\n",
       "      <th>10</th>\n",
       "      <td>220</td>\n",
       "      <td>Eleições Municipais 2016</td>\n",
       "      <td>13/12/2017 21:53:07</td>\n",
       "      <td>25490719000189</td>\n",
       "      <td>250000014888</td>\n",
       "      <td>SP</td>\n",
       "      <td>71072</td>\n",
       "      <td>SÃO PAULO</td>\n",
       "      <td>PSOL</td>\n",
       "      <td>50789</td>\n",
       "      <td>...</td>\n",
       "      <td>0331255210</td>\n",
       "      <td>1.109184e+12</td>\n",
       "      <td>UNIVERSO ONLINE S/A</td>\n",
       "      <td>UNIVERSO ONLINE S/A</td>\n",
       "      <td>6319400.0</td>\n",
       "      <td>Portais, provedores de conteúdo e outros servi...</td>\n",
       "      <td>26/09/201600:00:00</td>\n",
       "      <td>41.90</td>\n",
       "      <td>Despesas com Hospedagem</td>\n",
       "      <td>HOSPEDAGEM DE SITE PARA CAMPANHA</td>\n",
       "    </tr>\n",
       "    <tr>\n",
       "      <th>66</th>\n",
       "      <td>220</td>\n",
       "      <td>Eleições Municipais 2016</td>\n",
       "      <td>13/12/2017 21:53:07</td>\n",
       "      <td>25323938000173</td>\n",
       "      <td>250000004983</td>\n",
       "      <td>SP</td>\n",
       "      <td>71072</td>\n",
       "      <td>SÃO PAULO</td>\n",
       "      <td>PSDB</td>\n",
       "      <td>45544</td>\n",
       "      <td>...</td>\n",
       "      <td>2293 - 1</td>\n",
       "      <td>2.876767e+12</td>\n",
       "      <td>GRAFICA CISTIAM LTDA - EPP</td>\n",
       "      <td>GRAFICA CISTIAM LTDA - EPP</td>\n",
       "      <td>1813099.0</td>\n",
       "      <td>Impressão de material para outros usos</td>\n",
       "      <td>20/09/201600:00:00</td>\n",
       "      <td>560.00</td>\n",
       "      <td>Publicidade por materiais impressos</td>\n",
       "      <td>DESPESA SANTINHO - FORMATO 7·5X10·5 - SULFITE ...</td>\n",
       "    </tr>\n",
       "  </tbody>\n",
       "</table>\n",
       "<p>5 rows × 25 columns</p>\n",
       "</div>"
      ],
      "text/plain": [
       "    Cód. Eleição             Desc. Eleição          Data e hora  \\\n",
       "7            220  Eleições Municipais 2016  13/12/2017 21:53:07   \n",
       "8            220  Eleições Municipais 2016  13/12/2017 21:53:07   \n",
       "9            220  Eleições Municipais 2016  13/12/2017 21:53:07   \n",
       "10           220  Eleições Municipais 2016  13/12/2017 21:53:07   \n",
       "66           220  Eleições Municipais 2016  13/12/2017 21:53:07   \n",
       "\n",
       "    CNPJ Prestador Conta  Sequencial Candidato  UF  Sigla da UE Nome da UE  \\\n",
       "7         25410939000155          250000010863  SP        71072  SÃO PAULO   \n",
       "8         25490719000189          250000014888  SP        71072  SÃO PAULO   \n",
       "9         25490719000189          250000014888  SP        71072  SÃO PAULO   \n",
       "10        25490719000189          250000014888  SP        71072  SÃO PAULO   \n",
       "66        25323938000173          250000004983  SP        71072  SÃO PAULO   \n",
       "\n",
       "   Sigla  Partido  Número candidato  \\\n",
       "7             PHS             31800   \n",
       "8            PSOL             50789   \n",
       "9            PSOL             50789   \n",
       "10           PSOL             50789   \n",
       "66           PSDB             45544   \n",
       "\n",
       "                          ...                         Número do documento  \\\n",
       "7                         ...                                   359865249   \n",
       "8                         ...                                   355132078   \n",
       "9                         ...                                    17919386   \n",
       "10                        ...                                  0331255210   \n",
       "66                        ...                                    2293 - 1   \n",
       "\n",
       "   CPF/CNPJ do fornecedor          Nome do fornecedor  \\\n",
       "7            1.109184e+12         UNIVERSO ONLINE S/A   \n",
       "8            1.109184e+12         UNIVERSO ONLINE S/A   \n",
       "9            1.109184e+12         UNIVERSO ONLINE S/A   \n",
       "10           1.109184e+12         UNIVERSO ONLINE S/A   \n",
       "66           2.876767e+12  GRAFICA CISTIAM LTDA - EPP   \n",
       "\n",
       "    Nome do fornecedor (Receita Federal) Cod setor econômico do fornecedor  \\\n",
       "7                    UNIVERSO ONLINE S/A                         6319400.0   \n",
       "8                    UNIVERSO ONLINE S/A                         6319400.0   \n",
       "9                    UNIVERSO ONLINE S/A                         6319400.0   \n",
       "10                   UNIVERSO ONLINE S/A                         6319400.0   \n",
       "66            GRAFICA CISTIAM LTDA - EPP                         1813099.0   \n",
       "\n",
       "                        Setor econômico do fornecedor     Data da despesa  \\\n",
       "7   Portais, provedores de conteúdo e outros servi...  30/08/201600:00:00   \n",
       "8   Portais, provedores de conteúdo e outros servi...  17/08/201600:00:00   \n",
       "9   Portais, provedores de conteúdo e outros servi...  26/09/201600:00:00   \n",
       "10  Portais, provedores de conteúdo e outros servi...  26/09/201600:00:00   \n",
       "66             Impressão de material para outros usos  20/09/201600:00:00   \n",
       "\n",
       "   Valor despesa                               Tipo despesa  \\\n",
       "7          14.90  Criação e inclusão de páginas na internet   \n",
       "8          39.90  Criação e inclusão de páginas na internet   \n",
       "9         448.85                    Despesas com Hospedagem   \n",
       "10         41.90                    Despesas com Hospedagem   \n",
       "66        560.00        Publicidade por materiais impressos   \n",
       "\n",
       "                                 Descriçao da despesa  \n",
       "7                                  PROVEDOR DE ACESSO  \n",
       "8                         HOSPEDAGEM DE SITE INTERNET  \n",
       "9                         HOSPEDAGEM DE SITE INTERNET  \n",
       "10                   HOSPEDAGEM DE SITE PARA CAMPANHA  \n",
       "66  DESPESA SANTINHO - FORMATO 7·5X10·5 - SULFITE ...  \n",
       "\n",
       "[5 rows x 25 columns]"
      ]
     },
     "execution_count": 3,
     "metadata": {},
     "output_type": "execute_result"
    }
   ],
   "source": [
    "df = dados_despesas(2016, UF, MUNICIPIO)\n",
    "df.head()"
   ]
  },
  {
   "cell_type": "code",
   "execution_count": 4,
   "metadata": {},
   "outputs": [
    {
     "name": "stdout",
     "output_type": "stream",
     "text": [
      "<class 'pandas.core.frame.DataFrame'>\n",
      "Int64Index: 43622 entries, 7 to 1018947\n",
      "Data columns (total 25 columns):\n",
      "Cód. Eleição                            43622 non-null int64\n",
      "Desc. Eleição                           43622 non-null object\n",
      "Data e hora                             43622 non-null object\n",
      "CNPJ Prestador Conta                    43622 non-null int64\n",
      "Sequencial Candidato                    43622 non-null int64\n",
      "UF                                      43622 non-null object\n",
      "Sigla da UE                             43622 non-null int64\n",
      "Nome da UE                              43622 non-null object\n",
      "Sigla  Partido                          43622 non-null object\n",
      "Número candidato                        43622 non-null int64\n",
      "Cargo                                   43622 non-null object\n",
      "Nome candidato                          43622 non-null object\n",
      "CPF do candidato                        43622 non-null int64\n",
      "CPF do vice/suplente                    3069 non-null float64\n",
      "Tipo de documento                       39123 non-null object\n",
      "Número do documento                     39123 non-null object\n",
      "CPF/CNPJ do fornecedor                  39245 non-null float64\n",
      "Nome do fornecedor                      39245 non-null object\n",
      "Nome do fornecedor (Receita Federal)    39234 non-null object\n",
      "Cod setor econômico do fornecedor       18655 non-null float64\n",
      "Setor econômico do fornecedor           18655 non-null object\n",
      "Data da despesa                         43622 non-null object\n",
      "Valor despesa                           43622 non-null float64\n",
      "Tipo despesa                            43622 non-null object\n",
      "Descriçao da despesa                    43431 non-null object\n",
      "dtypes: float64(4), int64(6), object(15)\n",
      "memory usage: 8.7+ MB\n"
     ]
    }
   ],
   "source": [
    "df.info()"
   ]
  },
  {
   "cell_type": "code",
   "execution_count": 5,
   "metadata": {},
   "outputs": [],
   "source": [
    "dados_prefeito = df[df['Cargo'] == 'Prefeito']"
   ]
  },
  {
   "cell_type": "code",
   "execution_count": 24,
   "metadata": {
    "scrolled": true
   },
   "outputs": [
    {
     "data": {
      "text/html": [
       "<div>\n",
       "<style scoped>\n",
       "    .dataframe tbody tr th:only-of-type {\n",
       "        vertical-align: middle;\n",
       "    }\n",
       "\n",
       "    .dataframe tbody tr th {\n",
       "        vertical-align: top;\n",
       "    }\n",
       "\n",
       "    .dataframe thead th {\n",
       "        text-align: right;\n",
       "    }\n",
       "</style>\n",
       "<table border=\"1\" class=\"dataframe\">\n",
       "  <thead>\n",
       "    <tr style=\"text-align: right;\">\n",
       "      <th></th>\n",
       "      <th>Nome candidato</th>\n",
       "      <th>Valor despesa</th>\n",
       "      <th>% Total</th>\n",
       "    </tr>\n",
       "    <tr>\n",
       "      <th>Número candidato</th>\n",
       "      <th></th>\n",
       "      <th></th>\n",
       "      <th></th>\n",
       "    </tr>\n",
       "  </thead>\n",
       "  <tbody>\n",
       "    <tr>\n",
       "      <th>29</th>\n",
       "      <td>HENRIQUE ÁREAS DE ARAUJO</td>\n",
       "      <td>1351.41</td>\n",
       "      <td>0.000030</td>\n",
       "    </tr>\n",
       "    <tr>\n",
       "      <th>16</th>\n",
       "      <td>ALTINO DE MELO PRAZERES JÚNIOR</td>\n",
       "      <td>36592.39</td>\n",
       "      <td>0.000822</td>\n",
       "    </tr>\n",
       "    <tr>\n",
       "      <th>77</th>\n",
       "      <td>SERGIO OLIMPIO GOMES</td>\n",
       "      <td>95544.19</td>\n",
       "      <td>0.002146</td>\n",
       "    </tr>\n",
       "    <tr>\n",
       "      <th>27</th>\n",
       "      <td>JOÃO BICO DE SOUZA</td>\n",
       "      <td>320010.65</td>\n",
       "      <td>0.007187</td>\n",
       "    </tr>\n",
       "    <tr>\n",
       "      <th>28</th>\n",
       "      <td>JOSE LEVY FIDELIX DA CRUZ</td>\n",
       "      <td>339919.58</td>\n",
       "      <td>0.007635</td>\n",
       "    </tr>\n",
       "    <tr>\n",
       "      <th>50</th>\n",
       "      <td>LUIZA ERUNDINA DE SOUSA</td>\n",
       "      <td>353543.18</td>\n",
       "      <td>0.007941</td>\n",
       "    </tr>\n",
       "    <tr>\n",
       "      <th>18</th>\n",
       "      <td>RICARDO YOUNG SILVA</td>\n",
       "      <td>630589.30</td>\n",
       "      <td>0.014163</td>\n",
       "    </tr>\n",
       "    <tr>\n",
       "      <th>10</th>\n",
       "      <td>CELSO UBIRAJARA RUSSOMANNO</td>\n",
       "      <td>7022227.24</td>\n",
       "      <td>0.157719</td>\n",
       "    </tr>\n",
       "    <tr>\n",
       "      <th>15</th>\n",
       "      <td>MARTA TERESA SUPLICY</td>\n",
       "      <td>7068189.45</td>\n",
       "      <td>0.158751</td>\n",
       "    </tr>\n",
       "    <tr>\n",
       "      <th>45</th>\n",
       "      <td>JOÃO AGRIPINO DA COSTA DORIA JUNIOR</td>\n",
       "      <td>12443026.13</td>\n",
       "      <td>0.279470</td>\n",
       "    </tr>\n",
       "    <tr>\n",
       "      <th>13</th>\n",
       "      <td>FERNANDO HADDAD</td>\n",
       "      <td>16212629.19</td>\n",
       "      <td>0.364135</td>\n",
       "    </tr>\n",
       "  </tbody>\n",
       "</table>\n",
       "</div>"
      ],
      "text/plain": [
       "                                       Nome candidato  Valor despesa   % Total\n",
       "Número candidato                                                              \n",
       "29                           HENRIQUE ÁREAS DE ARAUJO        1351.41  0.000030\n",
       "16                     ALTINO DE MELO PRAZERES JÚNIOR       36592.39  0.000822\n",
       "77                               SERGIO OLIMPIO GOMES       95544.19  0.002146\n",
       "27                                 JOÃO BICO DE SOUZA      320010.65  0.007187\n",
       "28                          JOSE LEVY FIDELIX DA CRUZ      339919.58  0.007635\n",
       "50                            LUIZA ERUNDINA DE SOUSA      353543.18  0.007941\n",
       "18                                RICARDO YOUNG SILVA      630589.30  0.014163\n",
       "10                         CELSO UBIRAJARA RUSSOMANNO     7022227.24  0.157719\n",
       "15                               MARTA TERESA SUPLICY     7068189.45  0.158751\n",
       "45                JOÃO AGRIPINO DA COSTA DORIA JUNIOR    12443026.13  0.279470\n",
       "13                                    FERNANDO HADDAD    16212629.19  0.364135"
      ]
     },
     "execution_count": 24,
     "metadata": {},
     "output_type": "execute_result"
    }
   ],
   "source": [
    "gastos_candidato = dados_prefeito.groupby(['Número candidato', 'Nome candidato']).agg({'Valor despesa': sum}).reset_index().sort_values(by='Valor despesa')\n",
    "gastos_candidato['% Total'] = gastos_candidato['Valor despesa'] / gastos_candidato['Valor despesa'].sum()\n",
    "gastos_candidato.set_index('Número candidato', inplace=True)\n",
    "gastos_candidato"
   ]
  },
  {
   "cell_type": "code",
   "execution_count": 53,
   "metadata": {
    "scrolled": true
   },
   "outputs": [
    {
     "data": {
      "text/plain": [
       "Valor despesa   12,443,026.13\n",
       "dtype: float64"
      ]
     },
     "execution_count": 53,
     "metadata": {},
     "output_type": "execute_result"
    }
   ],
   "source": [
    "depesas_tipo_candidado = dados_prefeito.groupby(['Número candidato', 'Nome candidato', 'Tipo despesa']).agg({'Valor despesa': sum})\n",
    "depesas_tipo_candidado.loc[45].sort_values(by='Valor despesa').sum()"
   ]
  },
  {
   "cell_type": "code",
   "execution_count": 44,
   "metadata": {},
   "outputs": [
    {
     "data": {
      "text/plain": [
       "dtype('int64')"
      ]
     },
     "execution_count": 44,
     "metadata": {},
     "output_type": "execute_result"
    }
   ],
   "source": [
    "dados_prefeito['Número candidato']"
   ]
  },
  {
   "cell_type": "code",
   "execution_count": 21,
   "metadata": {},
   "outputs": [
    {
     "data": {
      "text/plain": [
       "1934       PAGAMENTO REF.A DOMINIO MARTANOSSAPREFEITA.COM...\n",
       "7902                PAGAMENTO REF.A IMPRESSAO DE LAMINA CARD\n",
       "9120       AQUISIÇÃO DE MATERIAIS DE LIMPEZA PARA USO NO ...\n",
       "9121       MATERIAIS DE EXPEDIENTE A SEREM UTILIZADOS NO ...\n",
       "10715      IMPRESSORA A3 HP SERIE 7600 KIT DE SUPRIMENTO ...\n",
       "10716                    SUPORTE TÉCNICO AO COMITE ELEITORAL\n",
       "10717      INFRAESTRUTURA PARA INSTALAÇÃO DE EQUIPAMENTOS...\n",
       "10718      EQUIPAMENTOS DE INFORMATICA PARA USO NO COMITE...\n",
       "14505                                                    NaN\n",
       "14506                                                    NaN\n",
       "14507                                                    NaN\n",
       "14585        PAGAMENTO REF.A IMPRESSAO DE 1.100.000 SANTNHOS\n",
       "15058                 PRAGAO 150X150MM HADDAD X PARAQ JOSIAS\n",
       "15059                    PRAGAO 150X150MM HADDAD X ANTONINHA\n",
       "15060                 PAGAMENTO REF.A ADESIVO PRAGAO 300X300\n",
       "15072                   PAGAMENTO REF.A ADESIVO PRAGAO 300MM\n",
       "15073               PAGAMENTO REF.A 8.000 ADESIVOS 100X100MM\n",
       "15074               PAGAMENTO REF.A 8.000 ADESIVOS 100X100MM\n",
       "15075                PRAGAO 150X150MM HADDAD X NAILTON SILVA\n",
       "15076                MACK PRAGUINHA SUPLICY VEREADOR 90X90MM\n",
       "15077                    PRAGAO 150X150MM HADDAD X GUTEMBERG\n",
       "15078              PRAGAO 150X150MM HADDAD X FABIANE MARQUES\n",
       "15079          PRAGAO 150X150MM HADDAD X DRA ALEXANDRA FUJOL\n",
       "15090           PAGAMENTO REF.A ADESIVO PARACHOQUE 100X300MM\n",
       "15092                 MACK PRAGUINHA HADDAD PREFEITO 90X90MM\n",
       "15093                  PRAGAO 150X150MM HADDAD X ELAINE ALBA\n",
       "15094              PRAGAO 150X150MM HADDAD X TONINHO ALMEIDA\n",
       "15095                    PRAGAO 150X150MM HADDAD X DR DARCIO\n",
       "15096                   PRAGAO 150X150MM HADDAD X GRACA DIAS\n",
       "15097                 PRAGAO 150X150MM HADDAD X CARLOS CUNHA\n",
       "                                 ...                        \n",
       "997732                DOACAO RECEBIDA REF.A IMPRESSAO LAMINA\n",
       "997733                DOACAO RECEBIDA REF.A IMPRESSAO LAMINA\n",
       "997734                DOACAO RECEBIDA REF.A IMPRESSAO LAMINA\n",
       "997735                DOACAO RECEBIDA REF.A IMPRESSAO LAMINA\n",
       "997736                DOACAO RECEBIDA REF.A IMPRESSAO LAMINA\n",
       "997737                DOACAO RECEBIDA REF.A IMPRESSAO LAMINA\n",
       "997738                DOACAO RECEBIDA REF.A IMPRESSAO LAMINA\n",
       "997739                DOACAO RECEBIDA REF.A IMPRESSAO LAMINA\n",
       "997740                DOACAO RECEBIDA REF.A IMPRESSAO LAMINA\n",
       "997741                DOACAO RECEBIDA REF.A IMPRESSAO LAMINA\n",
       "997742                DOACAO RECEBIDA REF.A IMPRESSAO LAMINA\n",
       "997743                DOACAO RECEBIDA REF.A IMPRESSAO LAMINA\n",
       "997744                DOACAO RECEBIDA REF.A IMPRESSAO LAMINA\n",
       "997745                DOACAO RECEBIDA REF.A IMPRESSAO LAMINA\n",
       "997746                DOACAO RECEBIDA REF.A IMPRESSAO LAMINA\n",
       "997747                DOACAO RECEBIDA REF.A IMPRESSAO LAMINA\n",
       "997748                DOACAO RECEBIDA REF.A IMPRESSAO LAMINA\n",
       "997749                DOACAO RECEBIDA REF.A IMPRESSAO LAMINA\n",
       "997750                DOACAO RECEBIDA REF.A IMPRESSAO LAMINA\n",
       "997751                DOACAO RECEBIDA REF.A IMPRESSAO LAMINA\n",
       "997752                DOACAO RECEBIDA REF.A IMPRESSAO LAMINA\n",
       "997753                DOACAO RECEBIDA REF.A IMPRESSAO LAMINA\n",
       "997754                DOACAO RECEBIDA REF.A IMPRESSAO LAMINA\n",
       "997755                DOACAO RECEBIDA REF.A IMPRESSAO LAMINA\n",
       "997756                DOACAO RECEBIDA REF.A IMPRESSAO LAMINA\n",
       "997757                DOACAO RECEBIDA REF.A IMPRESSAO LAMINA\n",
       "1002021    CONTRATO DE PRESTAÇÃO DE SERVIÇO VOLUTÁRIO PAR...\n",
       "1013956                                                  NaN\n",
       "1013971                                                  NaN\n",
       "1013987                                                  NaN\n",
       "Name: Descriçao da despesa, Length: 3069, dtype: object"
      ]
     },
     "execution_count": 21,
     "metadata": {},
     "output_type": "execute_result"
    }
   ],
   "source": [
    "dados_prefeito['Descriçao da despesa']"
   ]
  },
  {
   "cell_type": "code",
   "execution_count": 64,
   "metadata": {},
   "outputs": [],
   "source": [
    "from selenium.webdriver import Chrome\n",
    "from bs4 import BeautifulSoup"
   ]
  },
  {
   "cell_type": "code",
   "execution_count": 66,
   "metadata": {},
   "outputs": [],
   "source": [
    "driver = Chrome()\n",
    "driver.get('http://divulgacandcontas.tse.jus.br/divulga/#/candidato/2016/2/71072/250000004975/concentracao/despesas')\n",
    "HTML = driver.page_source"
   ]
  },
  {
   "cell_type": "code",
   "execution_count": 67,
   "metadata": {},
   "outputs": [],
   "source": [
    "soup = BeautifulSoup(HTML, 'lxml')"
   ]
  },
  {
   "cell_type": "code",
   "execution_count": 86,
   "metadata": {},
   "outputs": [],
   "source": [
    "valores = [i.text for i in driver.find_elements_by_class_name('pull-right') if i.text.startswith('R$')]\n",
    "    "
   ]
  },
  {
   "cell_type": "code",
   "execution_count": 93,
   "metadata": {},
   "outputs": [],
   "source": [
    "def clean_valores(val):\n",
    "    clean_val = val[2:].replace('.', '').replace(',', '.')\n",
    "    return float(clean_val)\n",
    "clean_values = list(map(clean_valores, valores))\n",
    "total = sum(clean_values)"
   ]
  },
  {
   "cell_type": "code",
   "execution_count": 98,
   "metadata": {},
   "outputs": [
    {
     "data": {
      "text/plain": [
       "'116,692.19'"
      ]
     },
     "execution_count": 98,
     "metadata": {},
     "output_type": "execute_result"
    }
   ],
   "source": [
    "format(total - 12326333.94, ',.2f')"
   ]
  },
  {
   "cell_type": "code",
   "execution_count": 99,
   "metadata": {},
   "outputs": [
    {
     "data": {
      "text/plain": [
       "12443026.129999999"
      ]
     },
     "execution_count": 99,
     "metadata": {},
     "output_type": "execute_result"
    }
   ],
   "source": [
    "total"
   ]
  },
  {
   "cell_type": "code",
   "execution_count": null,
   "metadata": {},
   "outputs": [],
   "source": []
  }
 ],
 "metadata": {
  "kernelspec": {
   "display_name": "Python 3",
   "language": "python",
   "name": "python3"
  },
  "language_info": {
   "codemirror_mode": {
    "name": "ipython",
    "version": 3
   },
   "file_extension": ".py",
   "mimetype": "text/x-python",
   "name": "python",
   "nbconvert_exporter": "python",
   "pygments_lexer": "ipython3",
   "version": "3.6.3"
  }
 },
 "nbformat": 4,
 "nbformat_minor": 2
}
